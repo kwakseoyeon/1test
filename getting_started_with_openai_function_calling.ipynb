{
  "nbformat": 4,
  "nbformat_minor": 0,
  "metadata": {
    "colab": {
      "provenance": [],
      "include_colab_link": true
    },
    "kernelspec": {
      "name": "python3",
      "display_name": "Python 3"
    },
    "language_info": {
      "name": "python"
    }
  },
  "cells": [
    {
      "cell_type": "markdown",
      "metadata": {
        "id": "view-in-github",
        "colab_type": "text"
      },
      "source": [
        "<a href=\"https://colab.research.google.com/github/kwakseoyeon/1test/blob/master/getting_started_with_openai_function_calling.ipynb\" target=\"_parent\"><img src=\"https://colab.research.google.com/assets/colab-badge.svg\" alt=\"Open In Colab\"/></a>"
      ]
    },
    {
      "cell_type": "markdown",
      "source": [
        "OpenAI API(챗 완성) 사용해보기"
      ],
      "metadata": {
        "id": "u-KIIvQ5NKJP"
      }
    },
    {
      "cell_type": "code",
      "execution_count": null,
      "metadata": {
        "id": "GHgrhVbLnM6I",
        "colab": {
          "base_uri": "https://localhost:8080/"
        },
        "outputId": "89aa6cc6-b9c0-4d11-a92f-4af2da93dd41"
      },
      "outputs": [
        {
          "metadata": {
            "tags": null
          },
          "name": "stdout",
          "output_type": "stream",
          "text": [
            "Collecting openai==0.28\n",
            "  Downloading openai-0.28.0-py3-none-any.whl (76 kB)\n",
            "\u001b[2K     \u001b[90m━━━━━━━━━━━━━━━━━━━━━━━━━━━━━━━━━━━━━━━━\u001b[0m \u001b[32m76.5/76.5 kB\u001b[0m \u001b[31m1.5 MB/s\u001b[0m eta \u001b[36m0:00:00\u001b[0m\n",
            "\u001b[?25hRequirement already satisfied: requests>=2.20 in /usr/local/lib/python3.10/dist-packages (from openai==0.28) (2.31.0)\n",
            "Requirement already satisfied: tqdm in /usr/local/lib/python3.10/dist-packages (from openai==0.28) (4.66.2)\n",
            "Requirement already satisfied: aiohttp in /usr/local/lib/python3.10/dist-packages (from openai==0.28) (3.9.3)\n",
            "Requirement already satisfied: charset-normalizer<4,>=2 in /usr/local/lib/python3.10/dist-packages (from requests>=2.20->openai==0.28) (3.3.2)\n",
            "Requirement already satisfied: idna<4,>=2.5 in /usr/local/lib/python3.10/dist-packages (from requests>=2.20->openai==0.28) (3.6)\n",
            "Requirement already satisfied: urllib3<3,>=1.21.1 in /usr/local/lib/python3.10/dist-packages (from requests>=2.20->openai==0.28) (2.0.7)\n",
            "Requirement already satisfied: certifi>=2017.4.17 in /usr/local/lib/python3.10/dist-packages (from requests>=2.20->openai==0.28) (2024.2.2)\n",
            "Requirement already satisfied: aiosignal>=1.1.2 in /usr/local/lib/python3.10/dist-packages (from aiohttp->openai==0.28) (1.3.1)\n",
            "Requirement already satisfied: attrs>=17.3.0 in /usr/local/lib/python3.10/dist-packages (from aiohttp->openai==0.28) (23.2.0)\n",
            "Requirement already satisfied: frozenlist>=1.1.1 in /usr/local/lib/python3.10/dist-packages (from aiohttp->openai==0.28) (1.4.1)\n",
            "Requirement already satisfied: multidict<7.0,>=4.5 in /usr/local/lib/python3.10/dist-packages (from aiohttp->openai==0.28) (6.0.5)\n",
            "Requirement already satisfied: yarl<2.0,>=1.0 in /usr/local/lib/python3.10/dist-packages (from aiohttp->openai==0.28) (1.9.4)\n",
            "Requirement already satisfied: async-timeout<5.0,>=4.0 in /usr/local/lib/python3.10/dist-packages (from aiohttp->openai==0.28) (4.0.3)\n",
            "Installing collected packages: openai\n",
            "Successfully installed openai-0.28.0\n"
          ]
        }
      ],
      "source": [
        "!pip install openai==0.28 # openai 라이브러리를 설치합니다."
      ]
    },
    {
      "cell_type": "code",
      "source": [
        "import openai\n",
        "from google.colab import userdata\n",
        "\n",
        "openai.api_key = userdata.get('OPENAI_API_KEY')"
      ],
      "metadata": {
        "id": "C5uYZQknXLDM"
      },
      "execution_count": null,
      "outputs": []
    },
    {
      "cell_type": "code",
      "source": [
        "import json\n",
        "\n",
        "# 개발자가 연동을 하고 싶은 함수를 정의한다.\n",
        "# Example dummy function hard coded to return the same weather\n",
        "# In production, this could be your backend API or an external API\n",
        "def get_current_weather(location, unit = \"celsius\"):\n",
        "\n",
        "    weather_info = {\n",
        "        \"location\": location,\n",
        "        \"temperature\": \"24\",\n",
        "        \"unit\": unit,\n",
        "        \"forecast\": [\"sunny\", \"windy\"],\n",
        "    }\n",
        "\n",
        "    return json.dumps(weather_info)"
      ],
      "metadata": {
        "id": "QpKZaIoPc2Hd"
      },
      "execution_count": null,
      "outputs": []
    },
    {
      "cell_type": "code",
      "source": [
        "ret = get_current_weather('서울')"
      ],
      "metadata": {
        "id": "uG9djoordB08"
      },
      "execution_count": null,
      "outputs": []
    },
    {
      "cell_type": "code",
      "source": [
        "print(ret)"
      ],
      "metadata": {
        "colab": {
          "base_uri": "https://localhost:8080/"
        },
        "id": "dRz4EX9sdDCj",
        "outputId": "90559365-7507-4c7a-d2e1-50ddd3811fab"
      },
      "execution_count": null,
      "outputs": [
        {
          "output_type": "stream",
          "name": "stdout",
          "text": [
            "{\"location\": \"\\uc11c\\uc6b8\", \"temperature\": \"72\", \"unit\": \"fahrenheit\", \"forecast\": [\"sunny\", \"windy\"]}\n"
          ]
        }
      ]
    },
    {
      "cell_type": "code",
      "source": [
        "def get_gps():\n",
        "    return '서울'"
      ],
      "metadata": {
        "id": "nFPKbmmedenu"
      },
      "execution_count": null,
      "outputs": []
    },
    {
      "cell_type": "code",
      "source": [
        "# 함수 호출을 위한 dict\n",
        "\n",
        "available_functions = {\n",
        "    \"get_current_weather\": get_current_weather,\n",
        "    \"get_location_from_gps\" : get_gps, # 일부러 이름을 다르게 함 (이유: 이해를 돕기 위해)\n",
        "}"
      ],
      "metadata": {
        "id": "LNPdhR0ZdKL7"
      },
      "execution_count": null,
      "outputs": []
    },
    {
      "cell_type": "code",
      "source": [
        "ret = available_functions[\"get_current_weather\"]('서울')\n",
        "\n",
        "print(ret)"
      ],
      "metadata": {
        "colab": {
          "base_uri": "https://localhost:8080/"
        },
        "id": "CrDDdP0idSpN",
        "outputId": "0fa94299-3183-4bb2-c503-2a2be624bd2b"
      },
      "execution_count": null,
      "outputs": [
        {
          "output_type": "stream",
          "name": "stdout",
          "text": [
            "{\"location\": \"\\uc11c\\uc6b8\", \"temperature\": \"72\", \"unit\": \"fahrenheit\", \"forecast\": [\"sunny\", \"windy\"]}\n"
          ]
        }
      ]
    },
    {
      "cell_type": "code",
      "source": [
        "ret = available_functions[\"get_location_from_gps\"]()\n",
        "\n",
        "print(ret)"
      ],
      "metadata": {
        "colab": {
          "base_uri": "https://localhost:8080/"
        },
        "id": "CT7fLeuudi1C",
        "outputId": "7adc2130-9178-4a7f-cb8d-d3aae8bc6311"
      },
      "execution_count": null,
      "outputs": [
        {
          "output_type": "stream",
          "name": "stdout",
          "text": [
            "서울\n"
          ]
        }
      ]
    },
    {
      "cell_type": "code",
      "source": [
        "def run_conversation(intput_text):\n",
        "    # Step 1: send the conversation and available functions to GPT\n",
        "    messages = [\n",
        "        {\"role\": \"user\", \"content\": intput_text}\n",
        "    ]\n",
        "\n",
        "    functions = [\n",
        "        {\n",
        "            \"name\": \"get_current_weather\",\n",
        "            \"description\": \"Get the current weather in a given location\",\n",
        "            \"parameters\": {\n",
        "                \"type\": \"object\",\n",
        "                \"properties\": {\n",
        "                    \"location\": {\n",
        "                        \"type\": \"string\",\n",
        "                        \"description\": \"The city and state, e.g. San Francisco, CA\",\n",
        "                    },\n",
        "                    \"unit\": {\n",
        "                        \"type\": \"string\",\n",
        "                        \"enum\": [\"celsius\", \"fahrenheit\"]\n",
        "                    },\n",
        "                },\n",
        "                \"required\": [\"location\"],\n",
        "            },\n",
        "        }\n",
        "    ]\n",
        "\n",
        "    response = openai.ChatCompletion.create(\n",
        "        model=\"gpt-3.5-turbo-0613\",\n",
        "        messages=messages,\n",
        "        functions=functions,\n",
        "        function_call=\"auto\",  # auto is default, but we'll be explicit\n",
        "    )\n",
        "\n",
        "    print(response)\n",
        "\n",
        "    response_message = response[\"choices\"][0][\"message\"]\n",
        "\n",
        "    # 함수 특정에 성공하면 \"function_call\" 키가 존재합니다.\n",
        "    print(response_message)\n",
        "\n",
        "    # Step 2: check if GPT wanted to call a function\n",
        "    if response_message.get(\"function_call\"): # 함수 특정에 성공했다면,\n",
        "        # Step 3: call the function\n",
        "        # Note: the JSON response may not always be valid; be sure to handle errors\n",
        "\n",
        "        # 함수 이름과 인자를 얻어온다.\n",
        "        function_name = response_message[\"function_call\"][\"name\"]\n",
        "        function_args = json.loads(response_message[\"function_call\"][\"arguments\"])\n",
        "\n",
        "        # 함수를 호출해서 그 결과를 얻는다.\n",
        "        function_response = available_functions[function_name](\n",
        "            location = function_args.get(\"location\"),\n",
        "            unit = function_args.get(\"unit\"),\n",
        "        )\n",
        "\n",
        "        # response_message : function_call, name, arguments\n",
        "        # 함수 이름과 인자 정보를 담은 메시지를 추가한다.\n",
        "        messages.append(response_message)  # extend conversation with assistant's reply\n",
        "\n",
        "        # 함수 호출 결과를 메시지에 추가한다.\n",
        "        messages.append(\n",
        "            {\n",
        "                \"role\": \"function\", # 역할 : 함수 호출 결과는 역할을 function으로 설정한다.\n",
        "                \"name\": function_name,\n",
        "                \"content\": function_response,\n",
        "            }\n",
        "        )  # extend conversation with function response\n",
        "\n",
        "        print(\"## messages ##\")\n",
        "        print(messages)\n",
        "        print(\"## messages ##\")\n",
        "\n",
        "        second_response = openai.ChatCompletion.create(\n",
        "            model = \"gpt-3.5-turbo-0613\",\n",
        "            messages = messages, # 사용자 요청사항, 함수 이름 및 인자, 함수 호출 결과\n",
        "        )  # get a new response from GPT where it can see the function response\n",
        "\n",
        "        return second_response\n",
        "    else:\n",
        "        return response"
      ],
      "metadata": {
        "id": "fEdzDpLWA3-Z"
      },
      "execution_count": null,
      "outputs": []
    },
    {
      "cell_type": "code",
      "source": [
        "response = run_conversation(\"What's the weather in Seoul?\")\n",
        "\n",
        "print(response[\"choices\"][0][\"message\"][\"content\"])"
      ],
      "metadata": {
        "colab": {
          "base_uri": "https://localhost:8080/"
        },
        "id": "cgPIjF7yRc2x",
        "outputId": "285adca5-6ed4-4f62-bb3f-1ca8a74a5d78"
      },
      "execution_count": null,
      "outputs": [
        {
          "output_type": "stream",
          "name": "stdout",
          "text": [
            "{\n",
            "  \"id\": \"chatcmpl-97fsRzxNjyUYRYmrQSL1Vp9GmatYW\",\n",
            "  \"object\": \"chat.completion\",\n",
            "  \"created\": 1711616299,\n",
            "  \"model\": \"gpt-3.5-turbo-0613\",\n",
            "  \"choices\": [\n",
            "    {\n",
            "      \"index\": 0,\n",
            "      \"message\": {\n",
            "        \"role\": \"assistant\",\n",
            "        \"content\": null,\n",
            "        \"function_call\": {\n",
            "          \"name\": \"get_current_weather\",\n",
            "          \"arguments\": \"{\\n\\\"location\\\": \\\"Seoul\\\"\\n}\"\n",
            "        }\n",
            "      },\n",
            "      \"logprobs\": null,\n",
            "      \"finish_reason\": \"function_call\"\n",
            "    }\n",
            "  ],\n",
            "  \"usage\": {\n",
            "    \"prompt_tokens\": 81,\n",
            "    \"completion_tokens\": 16,\n",
            "    \"total_tokens\": 97\n",
            "  },\n",
            "  \"system_fingerprint\": null\n",
            "}\n",
            "{\n",
            "  \"role\": \"assistant\",\n",
            "  \"content\": null,\n",
            "  \"function_call\": {\n",
            "    \"name\": \"get_current_weather\",\n",
            "    \"arguments\": \"{\\n\\\"location\\\": \\\"Seoul\\\"\\n}\"\n",
            "  }\n",
            "}\n",
            "## messages ##\n",
            "[{'role': 'user', 'content': \"What's the weather in Seoul?\"}, <OpenAIObject at 0x7d1da8205da0> JSON: {\n",
            "  \"role\": \"assistant\",\n",
            "  \"content\": null,\n",
            "  \"function_call\": {\n",
            "    \"name\": \"get_current_weather\",\n",
            "    \"arguments\": \"{\\n\\\"location\\\": \\\"Seoul\\\"\\n}\"\n",
            "  }\n",
            "}, {'role': 'function', 'name': 'get_current_weather', 'content': '{\"location\": \"Seoul\", \"temperature\": \"72\", \"unit\": null, \"forecast\": [\"sunny\", \"windy\"]}'}]\n",
            "## messages ##\n",
            "The weather in Seoul is currently sunny and windy, with a temperature of 72 degrees.\n"
          ]
        }
      ]
    },
    {
      "cell_type": "code",
      "source": [
        "response = run_conversation(\"What's the weather?\")\n",
        "print(response[\"choices\"][0][\"message\"][\"content\"])"
      ],
      "metadata": {
        "colab": {
          "base_uri": "https://localhost:8080/"
        },
        "id": "V9yEPGfURuTB",
        "outputId": "3efca29a-b2d7-4bd2-d16b-8cde1b96118e"
      },
      "execution_count": null,
      "outputs": [
        {
          "output_type": "stream",
          "name": "stdout",
          "text": [
            "{\n",
            "  \"id\": \"chatcmpl-97fsVk0p9J7n6k4gfgpmckNdf2txa\",\n",
            "  \"object\": \"chat.completion\",\n",
            "  \"created\": 1711616303,\n",
            "  \"model\": \"gpt-3.5-turbo-0613\",\n",
            "  \"choices\": [\n",
            "    {\n",
            "      \"index\": 0,\n",
            "      \"message\": {\n",
            "        \"role\": \"assistant\",\n",
            "        \"content\": \"In order to provide you with information about the current weather, could you please provide me with the location (city and state)?\"\n",
            "      },\n",
            "      \"logprobs\": null,\n",
            "      \"finish_reason\": \"stop\"\n",
            "    }\n",
            "  ],\n",
            "  \"usage\": {\n",
            "    \"prompt_tokens\": 79,\n",
            "    \"completion_tokens\": 26,\n",
            "    \"total_tokens\": 105\n",
            "  },\n",
            "  \"system_fingerprint\": null\n",
            "}\n",
            "{\n",
            "  \"role\": \"assistant\",\n",
            "  \"content\": \"In order to provide you with information about the current weather, could you please provide me with the location (city and state)?\"\n",
            "}\n",
            "In order to provide you with information about the current weather, could you please provide me with the location (city and state)?\n"
          ]
        }
      ]
    },
    {
      "cell_type": "code",
      "source": [
        "def run_conversation(user_input_text):\n",
        "    # Step 1: send the conversation and available functions to GPT\n",
        "    messages = [{\"role\": \"user\", \"content\": user_input_text}]\n",
        "    functions = [\n",
        "        {\n",
        "            \"name\": \"get_current_weather\",\n",
        "            \"description\": \"Get the current weather in a given location\",\n",
        "            \"parameters\": {\n",
        "                \"type\": \"object\",\n",
        "                \"properties\": {\n",
        "                    \"location\": {\n",
        "                        \"type\": \"string\",\n",
        "                        \"description\": \"The city and state, e.g. San Francisco, CA\",\n",
        "                    },\n",
        "                    \"unit\": {\"type\": \"string\", \"enum\": [\"celsius\", \"fahrenheit\"]},\n",
        "                },\n",
        "                \"required\": [\"location\"],\n",
        "            },\n",
        "        },\n",
        "        {\n",
        "            \"name\": \"get_location_from_gps\",\n",
        "            \"description\": \"Get the current location\",\n",
        "            \"parameters\": {\n",
        "                \"type\": \"object\",\n",
        "                \"properties\": {\n",
        "                    \"unit\": {\"type\": \"string\"},\n",
        "                },\n",
        "                \"required\": [],\n",
        "            },\n",
        "        }\n",
        "    ]\n",
        "    response = openai.ChatCompletion.create(\n",
        "        model = \"gpt-3.5-turbo-0613\",\n",
        "        messages = messages,\n",
        "        functions = functions,\n",
        "        function_call = \"auto\",  # auto is default, but we'll be explicit\n",
        "    )\n",
        "\n",
        "    print(response)\n",
        "\n",
        "    response_message = response[\"choices\"][0][\"message\"]\n",
        "\n",
        "    print(response_message)\n",
        "\n",
        "    # Step 2: check if GPT wanted to call a function\n",
        "    if response_message.get(\"function_call\"):\n",
        "        # Step 3: call the function\n",
        "        # Note: the JSON response may not always be valid; be sure to handle errors\n",
        "\n",
        "        # 함수 이름과 함수 인자를 얻는다.\n",
        "        function_name = response_message[\"function_call\"][\"name\"]\n",
        "        function_args = json.loads(response_message[\"function_call\"][\"arguments\"])\n",
        "\n",
        "        # 함수 호출\n",
        "        # 어떤 함수가 호출되는 지 모르기 때문에, 즉 인자를 특정할 수 없다.\n",
        "        function_response = available_functions[function_name](**function_args)\n",
        "\n",
        "        # [중요!!] 함수 이름과 인자 정보 추가\n",
        "        messages.append(response_message)  # extend conversation with assistant's reply\n",
        "\n",
        "        # 함수 호출 결과 추가 (role : function)\n",
        "        messages.append(\n",
        "            {\n",
        "                \"role\": \"function\",\n",
        "                \"name\": function_name,\n",
        "                \"content\": function_response,\n",
        "            }\n",
        "        )  # extend conversation with function response\n",
        "\n",
        "        print(\"## messages ##\")\n",
        "        print(messages)\n",
        "        print(\"## messages ##\")\n",
        "\n",
        "        second_response = openai.ChatCompletion.create(\n",
        "            model=\"gpt-3.5-turbo-0613\",\n",
        "            messages=messages,\n",
        "        )  # get a new response from GPT where it can see the function response\n",
        "        return second_response\n",
        "    else:\n",
        "        return response_message"
      ],
      "metadata": {
        "id": "n1ETB0GFZzG4"
      },
      "execution_count": null,
      "outputs": []
    },
    {
      "cell_type": "code",
      "source": [
        "message = run_conversation(\"현재 위치는 어디인가요?\")"
      ],
      "metadata": {
        "colab": {
          "base_uri": "https://localhost:8080/"
        },
        "id": "NtSAW0zUiXXn",
        "outputId": "021e9f32-f25f-4f0f-c842-ada070382496"
      },
      "execution_count": null,
      "outputs": [
        {
          "output_type": "stream",
          "name": "stdout",
          "text": [
            "{\n",
            "  \"id\": \"chatcmpl-97fscJuPdhtul67Bunt4i2D0JPEjw\",\n",
            "  \"object\": \"chat.completion\",\n",
            "  \"created\": 1711616310,\n",
            "  \"model\": \"gpt-3.5-turbo-0613\",\n",
            "  \"choices\": [\n",
            "    {\n",
            "      \"index\": 0,\n",
            "      \"message\": {\n",
            "        \"role\": \"assistant\",\n",
            "        \"content\": null,\n",
            "        \"function_call\": {\n",
            "          \"name\": \"get_location_from_gps\",\n",
            "          \"arguments\": \"{}\"\n",
            "        }\n",
            "      },\n",
            "      \"logprobs\": null,\n",
            "      \"finish_reason\": \"function_call\"\n",
            "    }\n",
            "  ],\n",
            "  \"usage\": {\n",
            "    \"prompt_tokens\": 108,\n",
            "    \"completion_tokens\": 9,\n",
            "    \"total_tokens\": 117\n",
            "  },\n",
            "  \"system_fingerprint\": null\n",
            "}\n",
            "{\n",
            "  \"role\": \"assistant\",\n",
            "  \"content\": null,\n",
            "  \"function_call\": {\n",
            "    \"name\": \"get_location_from_gps\",\n",
            "    \"arguments\": \"{}\"\n",
            "  }\n",
            "}\n",
            "## messages ##\n",
            "[{'role': 'user', 'content': '현재 위치는 어디인가요?'}, <OpenAIObject at 0x7d1d92fa75b0> JSON: {\n",
            "  \"role\": \"assistant\",\n",
            "  \"content\": null,\n",
            "  \"function_call\": {\n",
            "    \"name\": \"get_location_from_gps\",\n",
            "    \"arguments\": \"{}\"\n",
            "  }\n",
            "}, {'role': 'function', 'name': 'get_location_from_gps', 'content': '서울'}]\n",
            "## messages ##\n"
          ]
        }
      ]
    },
    {
      "cell_type": "code",
      "source": [
        "message.choices[0].message.content"
      ],
      "metadata": {
        "colab": {
          "base_uri": "https://localhost:8080/",
          "height": 35
        },
        "id": "-mrQ4YItiy92",
        "outputId": "19135957-aab0-46d0-cc44-73bf5ed16055"
      },
      "execution_count": null,
      "outputs": [
        {
          "output_type": "execute_result",
          "data": {
            "text/plain": [
              "'저는 현재 서울에 위치해 있습니다.'"
            ],
            "application/vnd.google.colaboratory.intrinsic+json": {
              "type": "string"
            }
          },
          "metadata": {},
          "execution_count": 32
        }
      ]
    },
    {
      "cell_type": "code",
      "source": [
        "message = run_conversation(\"서울의 날씨는요?\")"
      ],
      "metadata": {
        "colab": {
          "base_uri": "https://localhost:8080/"
        },
        "id": "SAx_lsgQUAUA",
        "outputId": "5517a06e-0ba8-4205-bba6-94958ff31f7e"
      },
      "execution_count": null,
      "outputs": [
        {
          "output_type": "stream",
          "name": "stdout",
          "text": [
            "{\n",
            "  \"id\": \"chatcmpl-97fsd0aW33Pq8ORSIpky0mryRDuzv\",\n",
            "  \"object\": \"chat.completion\",\n",
            "  \"created\": 1711616311,\n",
            "  \"model\": \"gpt-3.5-turbo-0613\",\n",
            "  \"choices\": [\n",
            "    {\n",
            "      \"index\": 0,\n",
            "      \"message\": {\n",
            "        \"role\": \"assistant\",\n",
            "        \"content\": null,\n",
            "        \"function_call\": {\n",
            "          \"name\": \"get_current_weather\",\n",
            "          \"arguments\": \"{\\n  \\\"location\\\": \\\"Seoul\\\"\\n}\"\n",
            "        }\n",
            "      },\n",
            "      \"logprobs\": null,\n",
            "      \"finish_reason\": \"function_call\"\n",
            "    }\n",
            "  ],\n",
            "  \"usage\": {\n",
            "    \"prompt_tokens\": 109,\n",
            "    \"completion_tokens\": 17,\n",
            "    \"total_tokens\": 126\n",
            "  },\n",
            "  \"system_fingerprint\": null\n",
            "}\n",
            "{\n",
            "  \"role\": \"assistant\",\n",
            "  \"content\": null,\n",
            "  \"function_call\": {\n",
            "    \"name\": \"get_current_weather\",\n",
            "    \"arguments\": \"{\\n  \\\"location\\\": \\\"Seoul\\\"\\n}\"\n",
            "  }\n",
            "}\n",
            "## messages ##\n",
            "[{'role': 'user', 'content': '서울의 날씨는요?'}, <OpenAIObject at 0x7d1d92fa4e50> JSON: {\n",
            "  \"role\": \"assistant\",\n",
            "  \"content\": null,\n",
            "  \"function_call\": {\n",
            "    \"name\": \"get_current_weather\",\n",
            "    \"arguments\": \"{\\n  \\\"location\\\": \\\"Seoul\\\"\\n}\"\n",
            "  }\n",
            "}, {'role': 'function', 'name': 'get_current_weather', 'content': '{\"location\": \"Seoul\", \"temperature\": \"72\", \"unit\": \"fahrenheit\", \"forecast\": [\"sunny\", \"windy\"]}'}]\n",
            "## messages ##\n"
          ]
        }
      ]
    },
    {
      "cell_type": "code",
      "source": [
        "message.choices[0].message.content"
      ],
      "metadata": {
        "colab": {
          "base_uri": "https://localhost:8080/",
          "height": 35
        },
        "id": "PcjVT2W6UCGO",
        "outputId": "70932de2-0877-4359-fa24-132ea8fa0f33"
      },
      "execution_count": null,
      "outputs": [
        {
          "output_type": "execute_result",
          "data": {
            "text/plain": [
              "'현재 서울의 온도는 72°F이며, 날씨는 화창하고 바람이 강합니다.'"
            ],
            "application/vnd.google.colaboratory.intrinsic+json": {
              "type": "string"
            }
          },
          "metadata": {},
          "execution_count": 34
        }
      ]
    },
    {
      "cell_type": "code",
      "source": [
        "response = run_conversation(\"안녕하세요.\")"
      ],
      "metadata": {
        "id": "h_W4QV1SUMHr",
        "colab": {
          "base_uri": "https://localhost:8080/"
        },
        "outputId": "aaeb5234-ce95-48bf-b896-7cf4add3f09d"
      },
      "execution_count": null,
      "outputs": [
        {
          "output_type": "stream",
          "name": "stdout",
          "text": [
            "{\n",
            "  \"id\": \"chatcmpl-97fseSja9WSHxhWg2nw5oJIJUCfLp\",\n",
            "  \"object\": \"chat.completion\",\n",
            "  \"created\": 1711616312,\n",
            "  \"model\": \"gpt-3.5-turbo-0613\",\n",
            "  \"choices\": [\n",
            "    {\n",
            "      \"index\": 0,\n",
            "      \"message\": {\n",
            "        \"role\": \"assistant\",\n",
            "        \"content\": \"\\uc548\\ub155\\ud558\\uc138\\uc694! \\uc5b4\\ub5bb\\uac8c \\ub3c4\\uc640\\ub4dc\\ub9b4\\uae4c\\uc694?\"\n",
            "      },\n",
            "      \"logprobs\": null,\n",
            "      \"finish_reason\": \"stop\"\n",
            "    }\n",
            "  ],\n",
            "  \"usage\": {\n",
            "    \"prompt_tokens\": 103,\n",
            "    \"completion_tokens\": 23,\n",
            "    \"total_tokens\": 126\n",
            "  },\n",
            "  \"system_fingerprint\": null\n",
            "}\n",
            "{\n",
            "  \"role\": \"assistant\",\n",
            "  \"content\": \"\\uc548\\ub155\\ud558\\uc138\\uc694! \\uc5b4\\ub5bb\\uac8c \\ub3c4\\uc640\\ub4dc\\ub9b4\\uae4c\\uc694?\"\n",
            "}\n"
          ]
        }
      ]
    },
    {
      "cell_type": "code",
      "source": [
        "response.content"
      ],
      "metadata": {
        "colab": {
          "base_uri": "https://localhost:8080/",
          "height": 35
        },
        "id": "chCVMFSHbjE5",
        "outputId": "aebec0f8-f3fc-42a1-eba4-797d57162630"
      },
      "execution_count": null,
      "outputs": [
        {
          "output_type": "execute_result",
          "data": {
            "text/plain": [
              "'안녕하세요! 어떻게 도와드릴까요?'"
            ],
            "application/vnd.google.colaboratory.intrinsic+json": {
              "type": "string"
            }
          },
          "metadata": {},
          "execution_count": 36
        }
      ]
    },
    {
      "cell_type": "code",
      "source": [
        "response = run_conversation(\"현재 날씨는?\")"
      ],
      "metadata": {
        "colab": {
          "base_uri": "https://localhost:8080/"
        },
        "id": "YQIukFv8blzt",
        "outputId": "5403931a-f65e-471d-bc23-42e1bad000c9"
      },
      "execution_count": null,
      "outputs": [
        {
          "output_type": "stream",
          "name": "stdout",
          "text": [
            "{\n",
            "  \"id\": \"chatcmpl-97fsfBEGOeluwmizc038a8kwmEaZA\",\n",
            "  \"object\": \"chat.completion\",\n",
            "  \"created\": 1711616313,\n",
            "  \"model\": \"gpt-3.5-turbo-0613\",\n",
            "  \"choices\": [\n",
            "    {\n",
            "      \"index\": 0,\n",
            "      \"message\": {\n",
            "        \"role\": \"assistant\",\n",
            "        \"content\": null,\n",
            "        \"function_call\": {\n",
            "          \"name\": \"get_location_from_gps\",\n",
            "          \"arguments\": \"{}\"\n",
            "        }\n",
            "      },\n",
            "      \"logprobs\": null,\n",
            "      \"finish_reason\": \"function_call\"\n",
            "    }\n",
            "  ],\n",
            "  \"usage\": {\n",
            "    \"prompt_tokens\": 106,\n",
            "    \"completion_tokens\": 9,\n",
            "    \"total_tokens\": 115\n",
            "  },\n",
            "  \"system_fingerprint\": null\n",
            "}\n",
            "{\n",
            "  \"role\": \"assistant\",\n",
            "  \"content\": null,\n",
            "  \"function_call\": {\n",
            "    \"name\": \"get_location_from_gps\",\n",
            "    \"arguments\": \"{}\"\n",
            "  }\n",
            "}\n",
            "## messages ##\n",
            "[{'role': 'user', 'content': '현재 날씨는?'}, <OpenAIObject at 0x7d1d92fa52b0> JSON: {\n",
            "  \"role\": \"assistant\",\n",
            "  \"content\": null,\n",
            "  \"function_call\": {\n",
            "    \"name\": \"get_location_from_gps\",\n",
            "    \"arguments\": \"{}\"\n",
            "  }\n",
            "}, {'role': 'function', 'name': 'get_location_from_gps', 'content': '서울'}]\n",
            "## messages ##\n"
          ]
        }
      ]
    },
    {
      "cell_type": "code",
      "source": [],
      "metadata": {
        "id": "nlhqKwtdSEV3"
      },
      "execution_count": null,
      "outputs": []
    }
  ]
}