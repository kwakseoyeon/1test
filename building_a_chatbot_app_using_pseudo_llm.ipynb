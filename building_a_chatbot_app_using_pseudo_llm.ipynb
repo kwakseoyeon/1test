{
  "nbformat": 4,
  "nbformat_minor": 0,
  "metadata": {
    "colab": {
      "provenance": [],
      "include_colab_link": true
    },
    "kernelspec": {
      "name": "python3",
      "display_name": "Python 3"
    },
    "language_info": {
      "name": "python"
    }
  },
  "cells": [
    {
      "cell_type": "markdown",
      "metadata": {
        "id": "view-in-github",
        "colab_type": "text"
      },
      "source": [
        "<a href=\"https://colab.research.google.com/github/kwakseoyeon/1test/blob/master/building_a_chatbot_app_using_pseudo_llm.ipynb\" target=\"_parent\"><img src=\"https://colab.research.google.com/assets/colab-badge.svg\" alt=\"Open In Colab\"/></a>"
      ]
    },
    {
      "cell_type": "code",
      "source": [
        "import random\n",
        "\n",
        "previous_message = \"\"\n",
        "\n",
        "def pseudo_llm(user_message):\n",
        "    global previous_message\n",
        "\n",
        "    user_message = user_message.lower()\n",
        "\n",
        "    # 인사\n",
        "    greetings = [\"안녕\", \"하이\", \"안녕하세요\", \"hello\"]\n",
        "    for greeting in greetings:\n",
        "        if greeting in user_message:\n",
        "            previous_message = \"greeting\"\n",
        "            return random.choice([\"안녕하세요!\", \"안녕! 무슨 질문이 있나요?\", \"반가워요!\"])\n",
        "\n",
        "    # 날씨\n",
        "    weather_keywords = [\"날씨\", \"오늘 날씨\", \"날씨 어때\"]\n",
        "    for keyword in weather_keywords:\n",
        "        if keyword in user_message:\n",
        "            previous_message = \"weather\"\n",
        "            return random.choice([\"죄송합니다, 날씨 정보는 제공하지 않습니다.\", \"모르겠습니다. 제 기능 중에 날씨는 없습니다.\"])\n",
        "\n",
        "    # 기분\n",
        "    feeling_keywords = [\"기분\", \"어떻게\", \"잘 지냈어?\", \"어떤 기분\"]\n",
        "    for keyword in feeling_keywords:\n",
        "        if keyword in user_message:\n",
        "            previous_message = \"feeling\"\n",
        "            return random.choice([\"저는 기계어니 기분이 없습니다!\", \"기분? 저는 그런 감정을 느낄 수 없어요.\"])\n",
        "\n",
        "    # 대화의 맥락 파악\n",
        "    if \"왜?\" in user_message:\n",
        "        if previous_message == \"weather\":\n",
        "            return \"제 기능 중에 날씨 정보 제공은 없어서 그렇습니다.\"\n",
        "        elif previous_message == \"feeling\":\n",
        "            return \"저는 감정을 가진 생명체가 아니라서요.\"\n",
        "        elif previous_message == \"greeting\":\n",
        "            return \"그냥 반갑게 인사하는 것이 좋다고 생각해서요.\"\n",
        "\n",
        "    # 기타\n",
        "    return random.choice([\"흥미로운 생각이네요.\", \"그것에 대해 더 생각해 보겠습니다.\", \"재미있는 질문입니다!\", \"잘 모르겠습니다. 다른 질문을 해보세요.\"])"
      ],
      "metadata": {
        "id": "uUusaraATh5C"
      },
      "execution_count": null,
      "outputs": []
    },
    {
      "cell_type": "code",
      "source": [
        "def chat_with_user(user_message, chat_history):\n",
        "    ai_message = pseudo_llm(user_message)\n",
        "    chat_history.append({'user': user_message, 'ai': ai_message})\n",
        "    return ai_message\n",
        "\n",
        "chat_history = []\n",
        "\n",
        "while True:\n",
        "    user_message = input(\"USER > \")\n",
        "    if user_message.lower() == \"quit\":\n",
        "        break\n",
        "    ai_message = chat_with_user(user_message, chat_history)\n",
        "    print(f\" A I > {ai_message}\")"
      ],
      "metadata": {
        "id": "y5fxQnd87y71",
        "colab": {
          "base_uri": "https://localhost:8080/"
        },
        "outputId": "a9da6fec-5c34-4ac2-cb78-15dafef7bcc3"
      },
      "execution_count": null,
      "outputs": [
        {
          "output_type": "stream",
          "name": "stdout",
          "text": [
            "USER > 안녕\n",
            " A I > 반가워요!\n",
            "USER > 오늘 날씨는?\n",
            " A I > 모르겠습니다. 제 기능 중에 날씨는 없습니다.\n",
            "USER > 왜?\n",
            " A I > 제 기능 중에 날씨 정보 제공은 없어서 그렇습니다.\n",
            "USER > 그래? 음.. 기분은 어때?\n",
            " A I > 기분? 저는 그런 감정을 느낄 수 없어요.\n",
            "USER > 왜?\n",
            " A I > 저는 감정을 가진 생명체가 아니라서요.\n"
          ]
        }
      ]
    },
    {
      "cell_type": "code",
      "source": [],
      "metadata": {
        "id": "tx6nW5S96xzn"
      },
      "execution_count": null,
      "outputs": []
    }
  ]
}