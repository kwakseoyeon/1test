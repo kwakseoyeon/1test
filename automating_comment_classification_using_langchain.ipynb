{
  "nbformat": 4,
  "nbformat_minor": 0,
  "metadata": {
    "colab": {
      "provenance": []
    },
    "kernelspec": {
      "name": "python3",
      "display_name": "Python 3"
    },
    "language_info": {
      "name": "python"
    }
  },
  "cells": [
    {
      "cell_type": "code",
      "source": [
        "!pip install openai # openai 라이브러리를 설치합니다.\n",
        "!pip install langchain"
      ],
      "metadata": {
        "colab": {
          "base_uri": "https://localhost:8080/"
        },
        "id": "7HKd8CaCfWFc",
        "outputId": "f5555f7e-dc6f-49e5-d4cf-a02c12962ec3"
      },
      "execution_count": null,
      "outputs": [
        {
          "output_type": "stream",
          "name": "stdout",
          "text": [
            "Collecting openai\n",
            "  Downloading openai-1.13.3-py3-none-any.whl (227 kB)\n",
            "\u001b[2K     \u001b[90m━━━━━━━━━━━━━━━━━━━━━━━━━━━━━━━━━━━━━━━━\u001b[0m \u001b[32m227.4/227.4 kB\u001b[0m \u001b[31m3.8 MB/s\u001b[0m eta \u001b[36m0:00:00\u001b[0m\n",
            "\u001b[?25hRequirement already satisfied: anyio<5,>=3.5.0 in /usr/local/lib/python3.10/dist-packages (from openai) (3.7.1)\n",
            "Requirement already satisfied: distro<2,>=1.7.0 in /usr/lib/python3/dist-packages (from openai) (1.7.0)\n",
            "Collecting httpx<1,>=0.23.0 (from openai)\n",
            "  Downloading httpx-0.27.0-py3-none-any.whl (75 kB)\n",
            "\u001b[2K     \u001b[90m━━━━━━━━━━━━━━━━━━━━━━━━━━━━━━━━━━━━━━━━\u001b[0m \u001b[32m75.6/75.6 kB\u001b[0m \u001b[31m6.8 MB/s\u001b[0m eta \u001b[36m0:00:00\u001b[0m\n",
            "\u001b[?25hRequirement already satisfied: pydantic<3,>=1.9.0 in /usr/local/lib/python3.10/dist-packages (from openai) (2.6.3)\n",
            "Requirement already satisfied: sniffio in /usr/local/lib/python3.10/dist-packages (from openai) (1.3.1)\n",
            "Requirement already satisfied: tqdm>4 in /usr/local/lib/python3.10/dist-packages (from openai) (4.66.2)\n",
            "Requirement already satisfied: typing-extensions<5,>=4.7 in /usr/local/lib/python3.10/dist-packages (from openai) (4.10.0)\n",
            "Requirement already satisfied: idna>=2.8 in /usr/local/lib/python3.10/dist-packages (from anyio<5,>=3.5.0->openai) (3.6)\n",
            "Requirement already satisfied: exceptiongroup in /usr/local/lib/python3.10/dist-packages (from anyio<5,>=3.5.0->openai) (1.2.0)\n",
            "Requirement already satisfied: certifi in /usr/local/lib/python3.10/dist-packages (from httpx<1,>=0.23.0->openai) (2024.2.2)\n",
            "Collecting httpcore==1.* (from httpx<1,>=0.23.0->openai)\n",
            "  Downloading httpcore-1.0.4-py3-none-any.whl (77 kB)\n",
            "\u001b[2K     \u001b[90m━━━━━━━━━━━━━━━━━━━━━━━━━━━━━━━━━━━━━━━━\u001b[0m \u001b[32m77.8/77.8 kB\u001b[0m \u001b[31m7.5 MB/s\u001b[0m eta \u001b[36m0:00:00\u001b[0m\n",
            "\u001b[?25hCollecting h11<0.15,>=0.13 (from httpcore==1.*->httpx<1,>=0.23.0->openai)\n",
            "  Downloading h11-0.14.0-py3-none-any.whl (58 kB)\n",
            "\u001b[2K     \u001b[90m━━━━━━━━━━━━━━━━━━━━━━━━━━━━━━━━━━━━━━━━\u001b[0m \u001b[32m58.3/58.3 kB\u001b[0m \u001b[31m5.7 MB/s\u001b[0m eta \u001b[36m0:00:00\u001b[0m\n",
            "\u001b[?25hRequirement already satisfied: annotated-types>=0.4.0 in /usr/local/lib/python3.10/dist-packages (from pydantic<3,>=1.9.0->openai) (0.6.0)\n",
            "Requirement already satisfied: pydantic-core==2.16.3 in /usr/local/lib/python3.10/dist-packages (from pydantic<3,>=1.9.0->openai) (2.16.3)\n",
            "Installing collected packages: h11, httpcore, httpx, openai\n",
            "Successfully installed h11-0.14.0 httpcore-1.0.4 httpx-0.27.0 openai-1.13.3\n",
            "Collecting langchain\n",
            "  Downloading langchain-0.1.11-py3-none-any.whl (807 kB)\n",
            "\u001b[2K     \u001b[90m━━━━━━━━━━━━━━━━━━━━━━━━━━━━━━━━━━━━━━━━\u001b[0m \u001b[32m807.5/807.5 kB\u001b[0m \u001b[31m4.3 MB/s\u001b[0m eta \u001b[36m0:00:00\u001b[0m\n",
            "\u001b[?25hRequirement already satisfied: PyYAML>=5.3 in /usr/local/lib/python3.10/dist-packages (from langchain) (6.0.1)\n",
            "Requirement already satisfied: SQLAlchemy<3,>=1.4 in /usr/local/lib/python3.10/dist-packages (from langchain) (2.0.28)\n",
            "Requirement already satisfied: aiohttp<4.0.0,>=3.8.3 in /usr/local/lib/python3.10/dist-packages (from langchain) (3.9.3)\n",
            "Requirement already satisfied: async-timeout<5.0.0,>=4.0.0 in /usr/local/lib/python3.10/dist-packages (from langchain) (4.0.3)\n",
            "Collecting dataclasses-json<0.7,>=0.5.7 (from langchain)\n",
            "  Downloading dataclasses_json-0.6.4-py3-none-any.whl (28 kB)\n",
            "Collecting jsonpatch<2.0,>=1.33 (from langchain)\n",
            "  Downloading jsonpatch-1.33-py2.py3-none-any.whl (12 kB)\n",
            "Collecting langchain-community<0.1,>=0.0.25 (from langchain)\n",
            "  Downloading langchain_community-0.0.27-py3-none-any.whl (1.8 MB)\n",
            "\u001b[2K     \u001b[90m━━━━━━━━━━━━━━━━━━━━━━━━━━━━━━━━━━━━━━━━\u001b[0m \u001b[32m1.8/1.8 MB\u001b[0m \u001b[31m8.6 MB/s\u001b[0m eta \u001b[36m0:00:00\u001b[0m\n",
            "\u001b[?25hCollecting langchain-core<0.2,>=0.1.29 (from langchain)\n",
            "  Downloading langchain_core-0.1.30-py3-none-any.whl (256 kB)\n",
            "\u001b[2K     \u001b[90m━━━━━━━━━━━━━━━━━━━━━━━━━━━━━━━━━━━━━━━━\u001b[0m \u001b[32m256.9/256.9 kB\u001b[0m \u001b[31m8.4 MB/s\u001b[0m eta \u001b[36m0:00:00\u001b[0m\n",
            "\u001b[?25hCollecting langchain-text-splitters<0.1,>=0.0.1 (from langchain)\n",
            "  Downloading langchain_text_splitters-0.0.1-py3-none-any.whl (21 kB)\n",
            "Collecting langsmith<0.2.0,>=0.1.17 (from langchain)\n",
            "  Downloading langsmith-0.1.23-py3-none-any.whl (66 kB)\n",
            "\u001b[2K     \u001b[90m━━━━━━━━━━━━━━━━━━━━━━━━━━━━━━━━━━━━━━━━\u001b[0m \u001b[32m66.6/66.6 kB\u001b[0m \u001b[31m4.9 MB/s\u001b[0m eta \u001b[36m0:00:00\u001b[0m\n",
            "\u001b[?25hRequirement already satisfied: numpy<2,>=1 in /usr/local/lib/python3.10/dist-packages (from langchain) (1.25.2)\n",
            "Requirement already satisfied: pydantic<3,>=1 in /usr/local/lib/python3.10/dist-packages (from langchain) (2.6.3)\n",
            "Requirement already satisfied: requests<3,>=2 in /usr/local/lib/python3.10/dist-packages (from langchain) (2.31.0)\n",
            "Requirement already satisfied: tenacity<9.0.0,>=8.1.0 in /usr/local/lib/python3.10/dist-packages (from langchain) (8.2.3)\n",
            "Requirement already satisfied: aiosignal>=1.1.2 in /usr/local/lib/python3.10/dist-packages (from aiohttp<4.0.0,>=3.8.3->langchain) (1.3.1)\n",
            "Requirement already satisfied: attrs>=17.3.0 in /usr/local/lib/python3.10/dist-packages (from aiohttp<4.0.0,>=3.8.3->langchain) (23.2.0)\n",
            "Requirement already satisfied: frozenlist>=1.1.1 in /usr/local/lib/python3.10/dist-packages (from aiohttp<4.0.0,>=3.8.3->langchain) (1.4.1)\n",
            "Requirement already satisfied: multidict<7.0,>=4.5 in /usr/local/lib/python3.10/dist-packages (from aiohttp<4.0.0,>=3.8.3->langchain) (6.0.5)\n",
            "Requirement already satisfied: yarl<2.0,>=1.0 in /usr/local/lib/python3.10/dist-packages (from aiohttp<4.0.0,>=3.8.3->langchain) (1.9.4)\n",
            "Collecting marshmallow<4.0.0,>=3.18.0 (from dataclasses-json<0.7,>=0.5.7->langchain)\n",
            "  Downloading marshmallow-3.21.1-py3-none-any.whl (49 kB)\n",
            "\u001b[2K     \u001b[90m━━━━━━━━━━━━━━━━━━━━━━━━━━━━━━━━━━━━━━━━\u001b[0m \u001b[32m49.4/49.4 kB\u001b[0m \u001b[31m5.2 MB/s\u001b[0m eta \u001b[36m0:00:00\u001b[0m\n",
            "\u001b[?25hCollecting typing-inspect<1,>=0.4.0 (from dataclasses-json<0.7,>=0.5.7->langchain)\n",
            "  Downloading typing_inspect-0.9.0-py3-none-any.whl (8.8 kB)\n",
            "Collecting jsonpointer>=1.9 (from jsonpatch<2.0,>=1.33->langchain)\n",
            "  Downloading jsonpointer-2.4-py2.py3-none-any.whl (7.8 kB)\n",
            "Requirement already satisfied: anyio<5,>=3 in /usr/local/lib/python3.10/dist-packages (from langchain-core<0.2,>=0.1.29->langchain) (3.7.1)\n",
            "Requirement already satisfied: packaging<24.0,>=23.2 in /usr/local/lib/python3.10/dist-packages (from langchain-core<0.2,>=0.1.29->langchain) (23.2)\n",
            "Collecting orjson<4.0.0,>=3.9.14 (from langsmith<0.2.0,>=0.1.17->langchain)\n",
            "  Downloading orjson-3.9.15-cp310-cp310-manylinux_2_17_x86_64.manylinux2014_x86_64.whl (138 kB)\n",
            "\u001b[2K     \u001b[90m━━━━━━━━━━━━━━━━━━━━━━━━━━━━━━━━━━━━━━━━\u001b[0m \u001b[32m138.5/138.5 kB\u001b[0m \u001b[31m12.2 MB/s\u001b[0m eta \u001b[36m0:00:00\u001b[0m\n",
            "\u001b[?25hRequirement already satisfied: annotated-types>=0.4.0 in /usr/local/lib/python3.10/dist-packages (from pydantic<3,>=1->langchain) (0.6.0)\n",
            "Requirement already satisfied: pydantic-core==2.16.3 in /usr/local/lib/python3.10/dist-packages (from pydantic<3,>=1->langchain) (2.16.3)\n",
            "Requirement already satisfied: typing-extensions>=4.6.1 in /usr/local/lib/python3.10/dist-packages (from pydantic<3,>=1->langchain) (4.10.0)\n",
            "Requirement already satisfied: charset-normalizer<4,>=2 in /usr/local/lib/python3.10/dist-packages (from requests<3,>=2->langchain) (3.3.2)\n",
            "Requirement already satisfied: idna<4,>=2.5 in /usr/local/lib/python3.10/dist-packages (from requests<3,>=2->langchain) (3.6)\n",
            "Requirement already satisfied: urllib3<3,>=1.21.1 in /usr/local/lib/python3.10/dist-packages (from requests<3,>=2->langchain) (2.0.7)\n",
            "Requirement already satisfied: certifi>=2017.4.17 in /usr/local/lib/python3.10/dist-packages (from requests<3,>=2->langchain) (2024.2.2)\n",
            "Requirement already satisfied: greenlet!=0.4.17 in /usr/local/lib/python3.10/dist-packages (from SQLAlchemy<3,>=1.4->langchain) (3.0.3)\n",
            "Requirement already satisfied: sniffio>=1.1 in /usr/local/lib/python3.10/dist-packages (from anyio<5,>=3->langchain-core<0.2,>=0.1.29->langchain) (1.3.1)\n",
            "Requirement already satisfied: exceptiongroup in /usr/local/lib/python3.10/dist-packages (from anyio<5,>=3->langchain-core<0.2,>=0.1.29->langchain) (1.2.0)\n",
            "Collecting mypy-extensions>=0.3.0 (from typing-inspect<1,>=0.4.0->dataclasses-json<0.7,>=0.5.7->langchain)\n",
            "  Downloading mypy_extensions-1.0.0-py3-none-any.whl (4.7 kB)\n",
            "Installing collected packages: orjson, mypy-extensions, marshmallow, jsonpointer, typing-inspect, jsonpatch, langsmith, dataclasses-json, langchain-core, langchain-text-splitters, langchain-community, langchain\n",
            "Successfully installed dataclasses-json-0.6.4 jsonpatch-1.33 jsonpointer-2.4 langchain-0.1.11 langchain-community-0.0.27 langchain-core-0.1.30 langchain-text-splitters-0.0.1 langsmith-0.1.23 marshmallow-3.21.1 mypy-extensions-1.0.0 orjson-3.9.15 typing-inspect-0.9.0\n"
          ]
        }
      ]
    },
    {
      "cell_type": "code",
      "source": [
        "import os"
      ],
      "metadata": {
        "id": "T7rS4-tNTl1o"
      },
      "execution_count": null,
      "outputs": []
    },
    {
      "cell_type": "code",
      "source": [
        "from langchain.chat_models import ChatOpenAI\n",
        "\n",
        "from google.colab import userdata\n",
        "os.environ[\"OPENAI_API_KEY\"] = userdata.get('OPENAI_API_KEY')\n",
        "\n",
        "chat_model = ChatOpenAI()"
      ],
      "metadata": {
        "id": "Bu7MbnanfXhH",
        "colab": {
          "base_uri": "https://localhost:8080/"
        },
        "outputId": "610695bd-be16-4ece-b9bc-270e8462d2f8"
      },
      "execution_count": null,
      "outputs": [
        {
          "output_type": "stream",
          "name": "stderr",
          "text": [
            "/usr/local/lib/python3.10/dist-packages/langchain_core/_api/deprecation.py:117: LangChainDeprecationWarning: The class `langchain_community.chat_models.openai.ChatOpenAI` was deprecated in langchain-community 0.0.10 and will be removed in 0.2.0. An updated version of the class exists in the langchain-openai package and should be used instead. To use it run `pip install -U langchain-openai` and import as `from langchain_openai import ChatOpenAI`.\n",
            "  warn_deprecated(\n"
          ]
        }
      ]
    },
    {
      "cell_type": "code",
      "source": [
        "from langchain.prompts.chat import ChatPromptTemplate\n",
        "from langchain.schema import BaseOutputParser\n",
        "\n",
        "chat_prompt_template = ChatPromptTemplate.from_messages([\n",
        "    (\"system\", \"Act as a classifier that accurately categorizes the sentiment of comments. Given a user-input comment, write '1' if the comment is positive, and '0' if the comment is negative. Output the integer '1' or '0' only, without any other text.\"),\n",
        "    (\"human\", \"{input_text}\"),\n",
        "])\n",
        "\n",
        "class ClassificationOutputParser(BaseOutputParser):\n",
        "    def parse(self, text: str):\n",
        "        if '1' in text:\n",
        "            return 1\n",
        "        return 0\n",
        "\n",
        "chain = chat_prompt_template | chat_model | ClassificationOutputParser() # LangChain Expression Language (LCEL)\n",
        "\n",
        "def langchain_llm(input_text):\n",
        "\n",
        "    output = chain.invoke({\"input_text\": input_text}) # output 0 또는 1\n",
        "\n",
        "    return output"
      ],
      "metadata": {
        "id": "8f6DK6Zn40mf"
      },
      "execution_count": null,
      "outputs": []
    },
    {
      "cell_type": "code",
      "source": [
        "def classify_text(input_text):\n",
        "    output = langchain_llm(input_text)\n",
        "    return output"
      ],
      "metadata": {
        "id": "gaavqZvdmU5h"
      },
      "execution_count": null,
      "outputs": []
    },
    {
      "cell_type": "code",
      "source": [
        "import urllib.request\n",
        "\n",
        "urllib.request.urlretrieve(\n",
        "    \"https://raw.githubusercontent.com/tykimos/tykimos.github.io/master/warehouse/dataset/tarr_train.txt\",\n",
        "    filename=\"tarr_train.txt\",\n",
        ")"
      ],
      "metadata": {
        "colab": {
          "base_uri": "https://localhost:8080/"
        },
        "id": "wzaHdDqBhXau",
        "outputId": "900a809e-ab93-4941-ddcf-157f548a3a84"
      },
      "execution_count": null,
      "outputs": [
        {
          "output_type": "execute_result",
          "data": {
            "text/plain": [
              "('tarr_train.txt', <http.client.HTTPMessage at 0x7800c95c68f0>)"
            ]
          },
          "metadata": {},
          "execution_count": 6
        }
      ]
    },
    {
      "cell_type": "code",
      "source": [
        "import pandas as pd\n",
        "from sklearn.metrics import accuracy_score, confusion_matrix\n",
        "\n",
        "# 파일을 DataFrame으로 로드\n",
        "df = pd.read_csv('tarr_train.txt', delimiter='\\t')\n",
        "\n",
        "actual_labels = []\n",
        "predicted_labels = []\n",
        "\n",
        "total = len(df)\n",
        "\n",
        "for index, row in df.iterrows():\n",
        "    comment = row['comment']\n",
        "    actual_label = row['label']\n",
        "    predicted_label = classify_text(comment)\n",
        "\n",
        "    actual_labels.append(actual_label)\n",
        "    predicted_labels.append(predicted_label)\n",
        "\n",
        "    print(f\"[{index+1}]/[{total}]\")\n",
        "    print(\"comment : \", comment)\n",
        "    print(\"actual class : \", actual_label)\n",
        "    print(\"predicted class : \", predicted_label)\n",
        "    print(\"---------------\")\n",
        "\n",
        "    if index > 10 :\n",
        "        break\n",
        "\n",
        "# 정확도 계산\n",
        "accuracy = accuracy_score(actual_labels, predicted_labels)\n",
        "print(f\"Accuracy: {accuracy*100:.2f}%\")\n",
        "\n",
        "# Confusion matrix 계산\n",
        "cm = confusion_matrix(actual_labels, predicted_labels, labels=[1, 0])\n",
        "# Confusion matrix 표현\n",
        "print(\"\\nConfusion Matrix:\")\n",
        "print(\"         Predicted:\")\n",
        "print(\"         긍정    부정\")\n",
        "print(\"Actual\")\n",
        "print(\"긍정      {:<5}  {:<5}\".format(cm[0][0], cm[0][1]))\n",
        "print(\"부정      {:<5}  {:<5}\".format(cm[1][0], cm[1][1]))"
      ],
      "metadata": {
        "colab": {
          "base_uri": "https://localhost:8080/"
        },
        "id": "y5fxQnd87y71",
        "outputId": "b18dcd42-58df-4dd1-a4b2-bed0c6f67139"
      },
      "execution_count": null,
      "outputs": [
        {
          "output_type": "stream",
          "name": "stdout",
          "text": [
            "[1]/[300]\n",
            "comment :  여기 음식은 언제 와도 실망시키지 않아요. 최고!\n",
            "actual class :  1\n",
            "predicted class :  1\n",
            "---------------\n",
            "[2]/[300]\n",
            "comment :  여기 라멘 진짜 ㄹㅇ 맛있어요. 국물이 진하고 면도 쫄깃해서 너무 좋았습니다.\n",
            "actual class :  1\n",
            "predicted class :  1\n",
            "---------------\n",
            "[3]/[300]\n",
            "comment :  진짜 깔끔하고, 맛도 좋았어요. 추천합니다!\n",
            "actual class :  1\n",
            "predicted class :  1\n",
            "---------------\n",
            "[4]/[300]\n",
            "comment :  왜 이렇게 유명한지 모르겠음ㅋㅋ ㄹㅈㄷ 맛없음\n",
            "actual class :  0\n",
            "predicted class :  0\n",
            "---------------\n",
            "[5]/[300]\n",
            "comment :  인생 타르트를 여기서 만났어요❤️ 달지 않고 고소해서 정말 추천합니다!\n",
            "actual class :  1\n",
            "predicted class :  1\n",
            "---------------\n",
            "[6]/[300]\n",
            "comment :  메뉴 설명을 너무 친절하게 해주셔서 고르기 수월했어요.\n",
            "actual class :  1\n",
            "predicted class :  1\n",
            "---------------\n",
            "[7]/[300]\n",
            "comment :  사진과 음식이 너무 달라서 실망했습니다.\n",
            "actual class :  0\n",
            "predicted class :  0\n",
            "---------------\n",
            "[8]/[300]\n",
            "comment :  주변에 추천하려고 사진도 많이 찍었어요. 좋아요!\n",
            "actual class :  1\n",
            "predicted class :  1\n",
            "---------------\n",
            "[9]/[300]\n",
            "comment :  솔직히...? 맛이 그닥이에요. 리뷰랑 너무 다르네.\n",
            "actual class :  0\n",
            "predicted class :  0\n",
            "---------------\n",
            "[10]/[300]\n",
            "comment :  진짜 개꿀맛..ㅠ 다른곳 안가.\n",
            "actual class :  1\n",
            "predicted class :  1\n",
            "---------------\n",
            "[11]/[300]\n",
            "comment :  음식이 너무 늦게 나와서 기다리는 동안 답답했습니다.\n",
            "actual class :  0\n",
            "predicted class :  0\n",
            "---------------\n",
            "[12]/[300]\n",
            "comment :  음식도 맛있고, 가격도 합리적이에요. 다음에 또 오려구요.\n",
            "actual class :  1\n",
            "predicted class :  1\n",
            "---------------\n",
            "Accuracy: 100.00%\n",
            "\n",
            "Confusion Matrix:\n",
            "         Predicted:\n",
            "         긍정    부정\n",
            "Actual\n",
            "긍정      8      0    \n",
            "부정      0      4    \n"
          ]
        }
      ]
    },
    {
      "cell_type": "code",
      "source": [
        "urllib.request.urlretrieve(\n",
        "    \"https://raw.githubusercontent.com/tykimos/tykimos.github.io/master/warehouse/dataset/tarr_sample_submit.txt\",\n",
        "    filename=\"tarr_sample_submit.txt\",\n",
        ")"
      ],
      "metadata": {
        "id": "Oy2Z-N6Wh765",
        "colab": {
          "base_uri": "https://localhost:8080/"
        },
        "outputId": "16d083a3-6ee9-4836-bc28-f3e741b4dbf5"
      },
      "execution_count": null,
      "outputs": [
        {
          "output_type": "execute_result",
          "data": {
            "text/plain": [
              "('tarr_sample_submit.txt', <http.client.HTTPMessage at 0x7800c95c6d70>)"
            ]
          },
          "metadata": {},
          "execution_count": 8
        }
      ]
    },
    {
      "cell_type": "code",
      "source": [
        "# 파일을 DataFrame으로 로드\n",
        "df_submit = pd.read_csv('tarr_sample_submit.txt', delimiter='\\t')\n",
        "\n",
        "predicted_labels = []\n",
        "\n",
        "total = len(df_submit)\n",
        "\n",
        "# 각 row를 순회하며 코멘트를 분류\n",
        "for index, row in df_submit.iterrows():\n",
        "    print(f\"[{index+1}]/[{total}]\")\n",
        "    comment = row['comment']\n",
        "    predicted_label = classify_text(comment)\n",
        "    predicted_labels.append(predicted_label)\n",
        "    print(\"comment : \", comment)\n",
        "    print(\"predicted class : \", predicted_label)\n",
        "\n",
        "    if index > 3 :\n",
        "        break\n",
        "\n",
        "# 예측된 레이블을 DataFrame에 추가\n",
        "#df_submit['label'] = predicted_labels\n",
        "\n",
        "# 결과를 tarr_my_submit.txt로 저장\n",
        "#df_submit[['id', 'comment', 'label']].to_csv('tarr_my_submit.txt', sep='\\t', index=False)"
      ],
      "metadata": {
        "id": "KZQWKSFw3ocq",
        "colab": {
          "base_uri": "https://localhost:8080/"
        },
        "outputId": "fe4025a1-414e-47e9-9d65-27ddf53f9d47"
      },
      "execution_count": null,
      "outputs": [
        {
          "output_type": "stream",
          "name": "stdout",
          "text": [
            "[1]/[100]\n",
            "comment :  완전 내 스타일이에요! 가격도 적당하고 위치도 좋고👌\n",
            "predicted class :  1\n",
            "[2]/[100]\n",
            "comment :  맛있긴 한데 양이 너무 적어서 좀... ㅠ\n",
            "predicted class :  0\n",
            "[3]/[100]\n",
            "comment :  완전 내 스타일이에요 ㅠㅠ 여기 매장 분위기도 이쁨\n",
            "predicted class :  1\n",
            "[4]/[100]\n",
            "comment :  한국의 전통 음식을 잘 표현한 것 같아요. 향토음식의 정취가 느껴져 좋았습니다.\n",
            "predicted class :  1\n",
            "[5]/[100]\n",
            "comment :  서빙하는 분이 좀 불친절해서 기분이 좀 그랬어요.\n",
            "predicted class :  0\n"
          ]
        }
      ]
    },
    {
      "cell_type": "code",
      "source": [],
      "metadata": {
        "id": "NT_ER74oR_eu"
      },
      "execution_count": null,
      "outputs": []
    }
  ]
}