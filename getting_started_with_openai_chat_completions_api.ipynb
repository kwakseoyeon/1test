{
  "nbformat": 4,
  "nbformat_minor": 0,
  "metadata": {
    "colab": {
      "provenance": [],
      "include_colab_link": true
    },
    "kernelspec": {
      "name": "python3",
      "display_name": "Python 3"
    },
    "language_info": {
      "name": "python"
    }
  },
  "cells": [
    {
      "cell_type": "markdown",
      "metadata": {
        "id": "view-in-github",
        "colab_type": "text"
      },
      "source": [
        "<a href=\"https://colab.research.google.com/github/kwakseoyeon/1test/blob/master/getting_started_with_openai_chat_completions_api.ipynb\" target=\"_parent\"><img src=\"https://colab.research.google.com/assets/colab-badge.svg\" alt=\"Open In Colab\"/></a>"
      ]
    },
    {
      "cell_type": "markdown",
      "source": [
        "OpenAI API(챗 완성) 사용해보기\n",
        "\n",
        "- 텍스트 완성 : 안녕 > llm > 하세요.\n",
        "- 챗 완성 : 안녕 > llm > 안녕하세요."
      ],
      "metadata": {
        "id": "u-KIIvQ5NKJP"
      }
    },
    {
      "cell_type": "code",
      "execution_count": null,
      "metadata": {
        "id": "GHgrhVbLnM6I",
        "colab": {
          "base_uri": "https://localhost:8080/"
        },
        "outputId": "b19b78a2-3af8-4806-81a8-0800cbd52e39"
      },
      "outputs": [
        {
          "output_type": "stream",
          "name": "stdout",
          "text": [
            "Requirement already satisfied: openai in /usr/local/lib/python3.10/dist-packages (1.14.3)\n",
            "Requirement already satisfied: anyio<5,>=3.5.0 in /usr/local/lib/python3.10/dist-packages (from openai) (3.7.1)\n",
            "Requirement already satisfied: distro<2,>=1.7.0 in /usr/lib/python3/dist-packages (from openai) (1.7.0)\n",
            "Requirement already satisfied: httpx<1,>=0.23.0 in /usr/local/lib/python3.10/dist-packages (from openai) (0.27.0)\n",
            "Requirement already satisfied: pydantic<3,>=1.9.0 in /usr/local/lib/python3.10/dist-packages (from openai) (2.6.4)\n",
            "Requirement already satisfied: sniffio in /usr/local/lib/python3.10/dist-packages (from openai) (1.3.1)\n",
            "Requirement already satisfied: tqdm>4 in /usr/local/lib/python3.10/dist-packages (from openai) (4.66.2)\n",
            "Requirement already satisfied: typing-extensions<5,>=4.7 in /usr/local/lib/python3.10/dist-packages (from openai) (4.10.0)\n",
            "Requirement already satisfied: idna>=2.8 in /usr/local/lib/python3.10/dist-packages (from anyio<5,>=3.5.0->openai) (3.6)\n",
            "Requirement already satisfied: exceptiongroup in /usr/local/lib/python3.10/dist-packages (from anyio<5,>=3.5.0->openai) (1.2.0)\n",
            "Requirement already satisfied: certifi in /usr/local/lib/python3.10/dist-packages (from httpx<1,>=0.23.0->openai) (2024.2.2)\n",
            "Requirement already satisfied: httpcore==1.* in /usr/local/lib/python3.10/dist-packages (from httpx<1,>=0.23.0->openai) (1.0.5)\n",
            "Requirement already satisfied: h11<0.15,>=0.13 in /usr/local/lib/python3.10/dist-packages (from httpcore==1.*->httpx<1,>=0.23.0->openai) (0.14.0)\n",
            "Requirement already satisfied: annotated-types>=0.4.0 in /usr/local/lib/python3.10/dist-packages (from pydantic<3,>=1.9.0->openai) (0.6.0)\n",
            "Requirement already satisfied: pydantic-core==2.16.3 in /usr/local/lib/python3.10/dist-packages (from pydantic<3,>=1.9.0->openai) (2.16.3)\n"
          ]
        }
      ],
      "source": [
        "!pip install openai # openai 라이브러리를 설치합니다."
      ]
    },
    {
      "cell_type": "code",
      "source": [
        "import openai\n",
        "from google.colab import userdata\n",
        "\n",
        "openai.api_key = userdata.get('OPENAI_API_KEY')"
      ],
      "metadata": {
        "id": "C5uYZQknXLDM"
      },
      "execution_count": null,
      "outputs": []
    },
    {
      "cell_type": "code",
      "source": [
        "completion = openai.chat.completions.create(\n",
        "    model = \"gpt-3.5-turbo\",\n",
        "    messages =\n",
        "    [\n",
        "        {\"role\": \"system\", \"content\": \"You are a helpful assistant. You must reply in Korean.\"},\n",
        "        {\"role\": \"user\", \"content\": \"Hello!\"}\n",
        "    ]\n",
        ")\n",
        "\n",
        "# 편지지의 종류 system, user, assistant, function (편지지를 쓰는 주제, 정보 제공자)\n",
        "# - system : 역할부여 프롬프팅, 지시문, 퓨샷, 지문\n",
        "# - user : 서비스 시에 사용자가 입력하는 문장\n",
        "# - assistant : GPT가 생성하는 문장\n",
        "# - function : 함수나 API 호출 결과\n",
        "# 위 항목은 \"role\"이라는 키에 저장합니다."
      ],
      "metadata": {
        "id": "YbHPPNAbF6WE"
      },
      "execution_count": null,
      "outputs": []
    },
    {
      "cell_type": "code",
      "source": [
        "print(completion) # AI가 준 편지봉투\n",
        "\n",
        "# role='assistant' 인 경우 두가지 케이스가 있습니다.\n",
        "# content가 내용이 존재하고, function_call이 None인 경우\n",
        "# content가 None, function_call에 내용(function_name, function_argument)이 있는 경우"
      ],
      "metadata": {
        "id": "_b7iN1dXYxry",
        "colab": {
          "base_uri": "https://localhost:8080/"
        },
        "outputId": "2fe3752d-9547-4559-9838-1dac0558081d"
      },
      "execution_count": null,
      "outputs": [
        {
          "output_type": "stream",
          "name": "stdout",
          "text": [
            "ChatCompletion(id='chatcmpl-97eQ1RqlSKaTlEg6z4lufuOlHY6w1', choices=[Choice(finish_reason='stop', index=0, logprobs=None, message=ChatCompletionMessage(content='안녕하세요! 도와드릴 수 있어요?', role='assistant', function_call=None, tool_calls=None))], created=1711610693, model='gpt-3.5-turbo-0125', object='chat.completion', system_fingerprint='fp_3bc1b5746c', usage=CompletionUsage(completion_tokens=17, prompt_tokens=25, total_tokens=42))\n"
          ]
        }
      ]
    },
    {
      "cell_type": "markdown",
      "source": [
        "# 생각해보기\n",
        "\n",
        "'user' 대신에 다른 role 넣어보기\n",
        "\n",
        "```\n",
        "BadRequestError: Error code: 400 - {'error': {'message': \"'user1' is not one of ['system', 'assistant', 'user', 'function'] - 'messages.1.role'\", 'type': 'invalid_request_error', 'param': None, 'code': None}}\n",
        "```\n",
        "\n"
      ],
      "metadata": {
        "id": "9-pHaI0R6Q1F"
      }
    },
    {
      "cell_type": "markdown",
      "source": [
        "# 메시지 꺼내기"
      ],
      "metadata": {
        "id": "QngicV-cNgkS"
      }
    },
    {
      "cell_type": "code",
      "source": [
        "print(completion.choices[0].message)"
      ],
      "metadata": {
        "id": "jgGxyxRMYSRZ",
        "colab": {
          "base_uri": "https://localhost:8080/"
        },
        "outputId": "9e7a242a-0e83-423b-92a6-19795073baf7"
      },
      "execution_count": null,
      "outputs": [
        {
          "output_type": "stream",
          "name": "stdout",
          "text": [
            "ChatCompletionMessage(content='안녕하세요! 도와드릴 수 있어요?', role='assistant', function_call=None, tool_calls=None)\n"
          ]
        }
      ]
    },
    {
      "cell_type": "code",
      "source": [
        "print(completion.choices[0].message.content)"
      ],
      "metadata": {
        "id": "XBHm_aWCnIpH",
        "colab": {
          "base_uri": "https://localhost:8080/"
        },
        "outputId": "3532cd55-d78a-4fa1-ec69-2b605e1f4b19"
      },
      "execution_count": null,
      "outputs": [
        {
          "output_type": "stream",
          "name": "stdout",
          "text": [
            "안녕하세요! 도와드릴 수 있어요?\n"
          ]
        }
      ]
    },
    {
      "cell_type": "markdown",
      "source": [
        "# 토큰이란?\n",
        "\n",
        "- 텍스트를 바로 모델에 입력할 수 없기 때문에, 사전을 만들고 ID를 발급해야 한다.\n",
        "- 입력되는 텍스트를 어떤 기준으로 나누는 것.\n",
        "- 어떤 기준이란 토큰나이저에 따라 다르다.\n",
        "\n",
        "- 안녕하세요. > 안녕 | 하세요.\n",
        "- 안녕하세요. > 안 | 녕 | 하세요.\n",
        "- 안녕하세요. > 안 | 녕 | 하 | 세요 |.\n",
        "- 안녕하세요. > 안 | 녕 | 하 | 세 | 요 |.\n",
        "\n",
        "OpenAI 토크나이저 [보기](https://platform.openai.com/tokenizer)"
      ],
      "metadata": {
        "id": "2S1VYwHN6WAt"
      }
    }
  ]
}