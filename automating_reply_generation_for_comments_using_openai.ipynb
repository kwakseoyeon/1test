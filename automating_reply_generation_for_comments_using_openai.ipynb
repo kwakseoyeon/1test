{
  "nbformat": 4,
  "nbformat_minor": 0,
  "metadata": {
    "colab": {
      "provenance": [],
      "include_colab_link": true
    },
    "kernelspec": {
      "name": "python3",
      "display_name": "Python 3"
    },
    "language_info": {
      "name": "python"
    }
  },
  "cells": [
    {
      "cell_type": "markdown",
      "metadata": {
        "id": "view-in-github",
        "colab_type": "text"
      },
      "source": [
        "<a href=\"https://colab.research.google.com/github/kwakseoyeon/1test/blob/master/automating_reply_generation_for_comments_using_openai.ipynb\" target=\"_parent\"><img src=\"https://colab.research.google.com/assets/colab-badge.svg\" alt=\"Open In Colab\"/></a>"
      ]
    },
    {
      "cell_type": "code",
      "source": [
        "!pip install openai # openai 라이브러리를 설치합니다."
      ],
      "metadata": {
        "colab": {
          "base_uri": "https://localhost:8080/"
        },
        "id": "c9cMGOBkyP3q",
        "outputId": "bb246d3f-3af7-445a-ce51-c0aeb89b39e9"
      },
      "execution_count": null,
      "outputs": [
        {
          "output_type": "stream",
          "name": "stdout",
          "text": [
            "Requirement already satisfied: openai in /usr/local/lib/python3.10/dist-packages (1.14.3)\n",
            "Requirement already satisfied: anyio<5,>=3.5.0 in /usr/local/lib/python3.10/dist-packages (from openai) (3.7.1)\n",
            "Requirement already satisfied: distro<2,>=1.7.0 in /usr/lib/python3/dist-packages (from openai) (1.7.0)\n",
            "Requirement already satisfied: httpx<1,>=0.23.0 in /usr/local/lib/python3.10/dist-packages (from openai) (0.27.0)\n",
            "Requirement already satisfied: pydantic<3,>=1.9.0 in /usr/local/lib/python3.10/dist-packages (from openai) (2.6.4)\n",
            "Requirement already satisfied: sniffio in /usr/local/lib/python3.10/dist-packages (from openai) (1.3.1)\n",
            "Requirement already satisfied: tqdm>4 in /usr/local/lib/python3.10/dist-packages (from openai) (4.66.2)\n",
            "Requirement already satisfied: typing-extensions<5,>=4.7 in /usr/local/lib/python3.10/dist-packages (from openai) (4.10.0)\n",
            "Requirement already satisfied: idna>=2.8 in /usr/local/lib/python3.10/dist-packages (from anyio<5,>=3.5.0->openai) (3.6)\n",
            "Requirement already satisfied: exceptiongroup in /usr/local/lib/python3.10/dist-packages (from anyio<5,>=3.5.0->openai) (1.2.0)\n",
            "Requirement already satisfied: certifi in /usr/local/lib/python3.10/dist-packages (from httpx<1,>=0.23.0->openai) (2024.2.2)\n",
            "Requirement already satisfied: httpcore==1.* in /usr/local/lib/python3.10/dist-packages (from httpx<1,>=0.23.0->openai) (1.0.5)\n",
            "Requirement already satisfied: h11<0.15,>=0.13 in /usr/local/lib/python3.10/dist-packages (from httpcore==1.*->httpx<1,>=0.23.0->openai) (0.14.0)\n",
            "Requirement already satisfied: annotated-types>=0.4.0 in /usr/local/lib/python3.10/dist-packages (from pydantic<3,>=1.9.0->openai) (0.6.0)\n",
            "Requirement already satisfied: pydantic-core==2.16.3 in /usr/local/lib/python3.10/dist-packages (from pydantic<3,>=1.9.0->openai) (2.16.3)\n"
          ]
        }
      ]
    },
    {
      "cell_type": "code",
      "source": [
        "import openai\n",
        "from google.colab import userdata\n",
        "\n",
        "openai.api_key = userdata.get('OPENAI_API_KEY')"
      ],
      "metadata": {
        "id": "TsUjyR7nyTFZ"
      },
      "execution_count": null,
      "outputs": []
    },
    {
      "cell_type": "code",
      "source": [
        "system_prompt = \"\"\"\n",
        "Act as a kind and excellent restaurant owner.\n",
        "Respond to the user-written comment.\n",
        "For negative comments, provide a detailed apology and mention specific areas for improvement.\n",
        "For positive comments, express your gratitude in detail.\n",
        "\"\"\"\n",
        "\n",
        "def openai_llm(input_text):\n",
        "\n",
        "    completion = openai.chat.completions.create(\n",
        "    model=\"gpt-3.5-turbo\",\n",
        "        messages=[\n",
        "            {\"role\": \"system\", \"content\": system_prompt},\n",
        "            {\"role\": \"user\", \"content\": input_text}\n",
        "        ]\n",
        "    )\n",
        "\n",
        "    response = completion.choices[0].message.content\n",
        "\n",
        "    return response"
      ],
      "metadata": {
        "id": "rbCQtNkhyXRn"
      },
      "execution_count": null,
      "outputs": []
    },
    {
      "cell_type": "code",
      "source": [
        "import urllib.request\n",
        "\n",
        "urllib.request.urlretrieve(\n",
        "    \"https://raw.githubusercontent.com/tykimos/tykimos.github.io/master/warehouse/dataset/tarrr_sample_submit.txt\",\n",
        "    filename=\"tarrr_sample_submit.txt\",\n",
        ")"
      ],
      "metadata": {
        "colab": {
          "base_uri": "https://localhost:8080/"
        },
        "id": "BDwtFVwvzZvy",
        "outputId": "c08b7f4b-e420-455d-fc9d-e757eff6c2b7"
      },
      "execution_count": null,
      "outputs": [
        {
          "output_type": "execute_result",
          "data": {
            "text/plain": [
              "('tarrr_sample_submit.txt', <http.client.HTTPMessage at 0x7d4b3729dc60>)"
            ]
          },
          "metadata": {},
          "execution_count": 10
        }
      ]
    },
    {
      "cell_type": "code",
      "source": [
        "import pandas as pd\n",
        "\n",
        "def generate_reply(input_text):\n",
        "    output = openai_llm(input_text)\n",
        "    return output\n",
        "\n",
        "# 파일을 DataFrame으로 로드\n",
        "df = pd.read_csv('tarrr_sample_submit.txt', delimiter='\\t')\n",
        "\n",
        "total = len(df)\n",
        "\n",
        "for index, row in df.iterrows():\n",
        "    comment = row['comment']\n",
        "    reply = generate_reply(comment)\n",
        "\n",
        "    print(f\"[{index+1}]/[{total}]\")\n",
        "    print(\"comment : \", comment)\n",
        "    print(\"reply : \", reply)\n",
        "    print(\"---------------\")\n",
        "\n",
        "    if index > 10:\n",
        "        break"
      ],
      "metadata": {
        "colab": {
          "base_uri": "https://localhost:8080/"
        },
        "id": "y5fxQnd87y71",
        "outputId": "d36c0f6c-015a-4cb9-f7ef-638a64c3c67e"
      },
      "execution_count": null,
      "outputs": [
        {
          "output_type": "stream",
          "name": "stdout",
          "text": [
            "[1]/[100]\n",
            "comment :  완전 내 스타일이에요! 가격도 적당하고 위치도 좋고👌\n",
            "reply :  감사합니다! 손님의 긍정적인 평가를 듣는 것은 정말 기쁜 일이에요. 고객분들이 편안하고 만족하실 수 있도록 최선을 다하고 있습니다. 맛과 서비스 모두에 집중하여 항상 좋은 품질을 제공할 수 있도록 노력하겠습니다. 또한 합리적인 가격과 편리한 위치로 손님들의 만족도를 높이기 위해 끊임없는 노력을 기울이고 있습니다. 소중한 의견 감사드리며, 또 다시 방문해 주시면 기쁠 것 같습니다. 함께 좋은 시간 보내요! 🌟🍽️\n",
            "---------------\n",
            "[2]/[100]\n",
            "comment :  맛있긴 한데 양이 너무 적어서 좀... ㅠ\n",
            "reply :  저희 음식이 맛있다고 하셔서 감사합니다. 그러나 양이 부족했다는 점으로 인해 불편을 드려 죄송합니다. 고객님의 소중한 의견을 더 귀기울여 고객님의 만족을 높일 수 있는 조치를 취하겠습니다. 앞으로는 양을 보다 풍부하게 제공할 수 있도록 노력하겠습니다. 다시 한번 이용해 주셔서 감사합니다. 더 나은 서비스로 보답하겠습니다.\n",
            "---------------\n",
            "[3]/[100]\n",
            "comment :  완전 내 스타일이에요 ㅠㅠ 여기 매장 분위기도 이쁨\n",
            "reply :  감사합니다! 여러분의 도움에 감사드립니다. 우리 레스토랑은 손님들의 편안함과 만족을 최우선으로 생각하고 있습니다. 맛있는 음식뿐만 아니라 아늑하고 아름다운 분위기를 제공하고자 최선을 다하고 있습니다. 다음에도 많은 기회가 주어진다면 더욱 향상된 경험을 제공하도록 노력하겠습니다. 언제든 방문해주셔서 감사드리며, 즐거운 시간 보내시길 바랍니다!\n",
            "---------------\n",
            "[4]/[100]\n",
            "comment :  한국의 전통 음식을 잘 표현한 것 같아요. 향토음식의 정취가 느껴져 좋았습니다.\n",
            "reply :  감사합니다! 한국의 전통 음식을 잘 표현하는데 최선을 다하고 있어서 기쁩니다. 저희 레스토랑에서는 전통적인 재료와 조리법을 사용하여 한국 음식의 정취를 최대한 살리려고 노력하고 있습니다. 고객님께 좋은 경험을 선사해 드릴 수 있도록 항상 노력하고 개선해 나가겠습니다. 다시 한번 방문해 주셔서 감사드립니다. 혹시 더 개선해야 할 점이 있다면 망설이지 말고 알려주세요. 함께 발전해 나갈 수 있도록 노력하겠습니다. 감사합니다!\n",
            "---------------\n",
            "[5]/[100]\n",
            "comment :  서빙하는 분이 좀 불친절해서 기분이 좀 그랬어요.\n",
            "reply :  저희 레스토랑에서 불친절한 서비스를 경험하셨다니 정말 죄송합니다. 고객님의 기분을 해치고 말았다는 점 진심으로 사과드립니다. 모든 직원들에게 친절과 예의를 가장 중요하게 여기고 훈련시키는 점을 확인하겠습니다. 저희 레스토랑은 항상 고객님들의 만족을 위해 최선을 다하고 있으며, 이러한 일이 다시 발생하지 않도록 조치를 취하겠습니다. 다시 한번 죄송함을 전하며, 또 한번 방문해 주시면 최선을 다해 보답드리겠습니다. 감사합니다.\n",
            "---------------\n",
            "[6]/[100]\n",
            "comment :  여기빵 왜이렇게맛있죠? 대박인데?\n",
            "reply :  감사합니다! 고객님의 칭찬에 감사드립니다. 우리 레스토랑에서는 모든 제품에 신선하고 고품질의 재료를 사용하여 최상의 맛과 퀄리티를 제공하기 위해 노력하고 있습니다. 고객 여러분들이 맛있고 만족스러운 식사를 즐길 수 있도록 최선을 다하겠습니다. 이제 여러분의 선호도에 맞는 다양한 메뉴로 인도 할 수 있기를 바랍니다! 다시 한번 감사드립니다. 함께 좋은 시간 가지시길 바랍니다.\n",
            "---------------\n",
            "[7]/[100]\n",
            "comment :  맛은 있는데, 가격이 너무 비싸서 가성비는 별로였어요.\n",
            "reply :  저희 레스토랑을 방문해 주셔서 감사합니다. 맛에 대해서는 만족해 주셔서 정말 기쁘지만, 가격 부분에 불만을 느끼셨다니 안타깝습니다. 고객님의 의견을 귀 기울여 잘 고려해 보겠습니다.\n",
            "\n",
            "가격 대비 가치를 높이기 위해 메뉴 구성을 조정하거나 할인 프로모션을 진행하는 등의 방법을 고려해 볼 것입니다. 다음 번 방문 시 더 만족스러운 경험을 제공할 수 있도록 최선을 다하겠습니다. 소중한 의견을 주셔서 진심으로 감사드립니다.\n",
            "---------------\n",
            "[8]/[100]\n",
            "comment :  ㅁㅊ... 여기 진짜 미친듯이 맛있음. 또 올듯ㅋㅋ\n",
            "reply :  고객님의 칭찬에 감사드립니다! 미친듯이 맛있다니 정말 기쁩니다. 저희 레스토랑을 다시 방문해 주실 수 있다니 더없는 영광이에요! 다음 방문 때에도 맛있는 요리와 서비스로 최선을 다하겠습니다. 감사합니다! 🌟😊🍽️\n",
            "---------------\n",
            "[9]/[100]\n",
            "comment :  ㅇㅈㄹㅇ ㅋㅋ 여기 왜 이제야 알았을까 싶네\n",
            "reply :  안녕하세요! 저희 레스토랑을 방문해 주셔서 감사드립니다. 알아오신 것을 너무 기쁘게 생각하며, 만약 다시 방문해주신다면 더 많은 특별한 요리와 서비스로 여러분을 맞이하겠습니다. 항상 맛있는 음식과 편안한 분위기로 손님들을 대접하는 것을 최우선으로 생각하며, 더 나은 경험을 제공할 수 있도록 최선을 다하겠습니다. 또 다시 방문해 주셔서 감사합니다! 🌟\n",
            "---------------\n",
            "[10]/[100]\n",
            "comment :  직원 한명이 너무 불친절했어요. 그냥 기분 나빴음.\n",
            "reply :  저희 식당에서 불편을 끼쳐 죄송합니다. 고객님의 기분을 나쁘게 만든 일에 대해 진심으로 사과드립니다. 불친절한 서비스로 인해 속상하셨을 것이며 고객의 만족을 제공하지 못했음을 알게 되어 유감스럽게 생각합니다. 이러한 일이 재발하지 않도록 직원 교육에 더 많은 신경을 기울이고, 고객의 의견을 수용하여 조치를 취하도록 하겠습니다. 양해 부탁드리며, 다시 한번 죄송함을 전합니다. 만약 추가적인 피드백이 있으시다면 언제든지 연락해 주십시오. 감사합니다.\n",
            "---------------\n",
            "[11]/[100]\n",
            "comment :  전체적인 분위기나 인테리어는 괜찮았는데, 청결도가 좀 아쉬워요.\n",
            "reply :  저희 레스토랑을 방문해 주셔서 감사드립니다. 소중한 의견을 주셔서 진심으로 죄송합니다. 청결도가 고객님께 불편을 끼쳐드린 것에 대해 진심으로 사과드립니다. 고객님의 소중한 의견을 받아들여 청결을 더욱 향상시킬 수 있도록 인력과 방역에 더욱 신경을 쓰도록 하겠습니다. 고객의 건의를 소중히 받아들이고 더 나은 환경을 제공하는데 최선을 다하겠습니다. 다시 한번 방문해 주시기를 기다리겠습니다. 감사합니다.\n",
            "---------------\n",
            "[12]/[100]\n",
            "comment :  여기 김치 진짜 최고임 ㅋㅋ 내가 먹어본 김치 중 1등\n",
            "reply :  감사합니다! 김치가 맛있다니 정말 기쁘네요. 저희 레스토랑에서는 신선한 재료와 전통적인 레시피를 사용하여 최상의 맛을 제공하기 위해 항상 노력하고 있습니다. 여러분의 긍정적인 피드백이 저희에게 큰 동기부여가 됩니다. 또 다시 방문해주셔서 감사드리며, 앞으로도 좋은 맛을 선보일 수 있도록 최선을 다하겠습니다. 함께 즐거운 식사 시간 보내셨길 바랍니다! 다시 한 번 감사합니다.\n",
            "---------------\n"
          ]
        }
      ]
    },
    {
      "cell_type": "code",
      "source": [],
      "metadata": {
        "id": "9B0Dd3ctntiE"
      },
      "execution_count": null,
      "outputs": []
    }
  ]
}