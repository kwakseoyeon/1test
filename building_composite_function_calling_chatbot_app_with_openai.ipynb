{
  "cells": [
    {
      "cell_type": "markdown",
      "metadata": {
        "id": "view-in-github",
        "colab_type": "text"
      },
      "source": [
        "<a href=\"https://colab.research.google.com/github/kwakseoyeon/1test/blob/master/building_composite_function_calling_chatbot_app_with_openai.ipynb\" target=\"_parent\"><img src=\"https://colab.research.google.com/assets/colab-badge.svg\" alt=\"Open In Colab\"/></a>"
      ]
    },
    {
      "cell_type": "code",
      "execution_count": null,
      "metadata": {
        "colab": {
          "base_uri": "https://localhost:8080/"
        },
        "id": "K4D8RN2U0F4x",
        "outputId": "83b9b301-c589-4823-f0f6-99e1054e0b77"
      },
      "outputs": [
        {
          "output_type": "stream",
          "name": "stdout",
          "text": [
            "Collecting openai==0.28\n",
            "  Downloading openai-0.28.0-py3-none-any.whl (76 kB)\n",
            "\u001b[2K     \u001b[90m━━━━━━━━━━━━━━━━━━━━━━━━━━━━━━━━━━━━━━━━\u001b[0m \u001b[32m76.5/76.5 kB\u001b[0m \u001b[31m1.1 MB/s\u001b[0m eta \u001b[36m0:00:00\u001b[0m\n",
            "\u001b[?25hRequirement already satisfied: requests>=2.20 in /usr/local/lib/python3.10/dist-packages (from openai==0.28) (2.31.0)\n",
            "Requirement already satisfied: tqdm in /usr/local/lib/python3.10/dist-packages (from openai==0.28) (4.66.2)\n",
            "Requirement already satisfied: aiohttp in /usr/local/lib/python3.10/dist-packages (from openai==0.28) (3.9.3)\n",
            "Requirement already satisfied: charset-normalizer<4,>=2 in /usr/local/lib/python3.10/dist-packages (from requests>=2.20->openai==0.28) (3.3.2)\n",
            "Requirement already satisfied: idna<4,>=2.5 in /usr/local/lib/python3.10/dist-packages (from requests>=2.20->openai==0.28) (3.6)\n",
            "Requirement already satisfied: urllib3<3,>=1.21.1 in /usr/local/lib/python3.10/dist-packages (from requests>=2.20->openai==0.28) (2.0.7)\n",
            "Requirement already satisfied: certifi>=2017.4.17 in /usr/local/lib/python3.10/dist-packages (from requests>=2.20->openai==0.28) (2024.2.2)\n",
            "Requirement already satisfied: aiosignal>=1.1.2 in /usr/local/lib/python3.10/dist-packages (from aiohttp->openai==0.28) (1.3.1)\n",
            "Requirement already satisfied: attrs>=17.3.0 in /usr/local/lib/python3.10/dist-packages (from aiohttp->openai==0.28) (23.2.0)\n",
            "Requirement already satisfied: frozenlist>=1.1.1 in /usr/local/lib/python3.10/dist-packages (from aiohttp->openai==0.28) (1.4.1)\n",
            "Requirement already satisfied: multidict<7.0,>=4.5 in /usr/local/lib/python3.10/dist-packages (from aiohttp->openai==0.28) (6.0.5)\n",
            "Requirement already satisfied: yarl<2.0,>=1.0 in /usr/local/lib/python3.10/dist-packages (from aiohttp->openai==0.28) (1.9.4)\n",
            "Requirement already satisfied: async-timeout<5.0,>=4.0 in /usr/local/lib/python3.10/dist-packages (from aiohttp->openai==0.28) (4.0.3)\n",
            "Installing collected packages: openai\n",
            "Successfully installed openai-0.28.0\n"
          ]
        }
      ],
      "source": [
        "!pip install openai==0.28 # openai 라이브러리를 설치합니다."
      ]
    },
    {
      "cell_type": "code",
      "execution_count": null,
      "metadata": {
        "id": "vf_9nvKw0Hci"
      },
      "outputs": [],
      "source": [
        "import openai\n",
        "from google.colab import userdata\n",
        "\n",
        "openai.api_key = userdata.get('OPENAI_API_KEY')"
      ]
    },
    {
      "cell_type": "code",
      "source": [
        "import requests\n",
        "import json\n",
        "\n",
        "def get_current_location():\n",
        "    response = requests.get('https://ipinfo.io')\n",
        "    info = response.json()\n",
        "    return json.dumps(info)"
      ],
      "metadata": {
        "id": "KEQ4nAiUmaFY"
      },
      "execution_count": null,
      "outputs": []
    },
    {
      "cell_type": "code",
      "source": [
        "import requests\n",
        "\n",
        "def get_current_weather(latitude, longitude):\n",
        "\n",
        "    # Define the base URL for the Open-Meteo API\n",
        "    base_url = \"https://api.open-meteo.com/v1/forecast\"\n",
        "\n",
        "    # Specify your parameters (in this case, for Berlin, Germany)\n",
        "    params = {\n",
        "        \"latitude\": latitude,   # Example latitude\n",
        "        \"longitude\": longitude,  # Example longitude\n",
        "        \"current_weather\": True, # To get current weather\n",
        "        \"daily\": \"temperature_2m_max,temperature_2m_min\", # For daily max/min temperatures\n",
        "        \"timezone\": \"auto\" # Automatically determine the timezone\n",
        "    }\n",
        "\n",
        "    # Make the GET request\n",
        "    response = requests.get(base_url, params=params)\n",
        "\n",
        "    info = {}\n",
        "    # Check if the request was successful\n",
        "    if response.status_code == 200:\n",
        "        info = response.json()\n",
        "\n",
        "    return json.dumps(info)"
      ],
      "metadata": {
        "id": "-hb6kkuRo3a6"
      },
      "execution_count": null,
      "outputs": []
    },
    {
      "cell_type": "code",
      "source": [
        "!pip install yfinance\n",
        "\n",
        "import yfinance as yf\n",
        "import json\n",
        "\n",
        "def get_stock_price_info(stock_symbol):\n",
        "    # yfinance를 사용하여 주식 정보 로드\n",
        "\n",
        "    print(stock_symbol)\n",
        "\n",
        "    stock = yf.Ticker(stock_symbol)\n",
        "\n",
        "    # 주식의 현재 정보 가져오기\n",
        "    info = stock.info\n",
        "\n",
        "    # 관심 있는 정보를 선택적으로 추출\n",
        "    relevant_info = {\n",
        "        'currentPrice': info.get('currentPrice'),\n",
        "        'previousClose': info.get('previousClose'),\n",
        "        'open': info.get('open'),\n",
        "        'dayHigh': info.get('dayHigh'),\n",
        "        'dayLow': info.get('dayLow'),\n",
        "        'volume': info.get('volume'),\n",
        "        'marketCap': info.get('marketCap')\n",
        "    }\n",
        "\n",
        "    # JSON 형태로 정보 반환\n",
        "    return json.dumps(relevant_info, ensure_ascii=False)\n"
      ],
      "metadata": {
        "colab": {
          "base_uri": "https://localhost:8080/"
        },
        "id": "5beOBd1-ojuY",
        "outputId": "da5fe59a-c540-4a41-b968-fbc5fa4762b0"
      },
      "execution_count": null,
      "outputs": [
        {
          "output_type": "stream",
          "name": "stdout",
          "text": [
            "Requirement already satisfied: yfinance in /usr/local/lib/python3.10/dist-packages (0.2.37)\n",
            "Requirement already satisfied: pandas>=1.3.0 in /usr/local/lib/python3.10/dist-packages (from yfinance) (1.5.3)\n",
            "Requirement already satisfied: numpy>=1.16.5 in /usr/local/lib/python3.10/dist-packages (from yfinance) (1.25.2)\n",
            "Requirement already satisfied: requests>=2.31 in /usr/local/lib/python3.10/dist-packages (from yfinance) (2.31.0)\n",
            "Requirement already satisfied: multitasking>=0.0.7 in /usr/local/lib/python3.10/dist-packages (from yfinance) (0.0.11)\n",
            "Requirement already satisfied: lxml>=4.9.1 in /usr/local/lib/python3.10/dist-packages (from yfinance) (4.9.4)\n",
            "Requirement already satisfied: appdirs>=1.4.4 in /usr/local/lib/python3.10/dist-packages (from yfinance) (1.4.4)\n",
            "Requirement already satisfied: pytz>=2022.5 in /usr/local/lib/python3.10/dist-packages (from yfinance) (2023.4)\n",
            "Requirement already satisfied: frozendict>=2.3.4 in /usr/local/lib/python3.10/dist-packages (from yfinance) (2.4.0)\n",
            "Requirement already satisfied: peewee>=3.16.2 in /usr/local/lib/python3.10/dist-packages (from yfinance) (3.17.1)\n",
            "Requirement already satisfied: beautifulsoup4>=4.11.1 in /usr/local/lib/python3.10/dist-packages (from yfinance) (4.12.3)\n",
            "Requirement already satisfied: html5lib>=1.1 in /usr/local/lib/python3.10/dist-packages (from yfinance) (1.1)\n",
            "Requirement already satisfied: soupsieve>1.2 in /usr/local/lib/python3.10/dist-packages (from beautifulsoup4>=4.11.1->yfinance) (2.5)\n",
            "Requirement already satisfied: six>=1.9 in /usr/local/lib/python3.10/dist-packages (from html5lib>=1.1->yfinance) (1.16.0)\n",
            "Requirement already satisfied: webencodings in /usr/local/lib/python3.10/dist-packages (from html5lib>=1.1->yfinance) (0.5.1)\n",
            "Requirement already satisfied: python-dateutil>=2.8.1 in /usr/local/lib/python3.10/dist-packages (from pandas>=1.3.0->yfinance) (2.8.2)\n",
            "Requirement already satisfied: charset-normalizer<4,>=2 in /usr/local/lib/python3.10/dist-packages (from requests>=2.31->yfinance) (3.3.2)\n",
            "Requirement already satisfied: idna<4,>=2.5 in /usr/local/lib/python3.10/dist-packages (from requests>=2.31->yfinance) (3.6)\n",
            "Requirement already satisfied: urllib3<3,>=1.21.1 in /usr/local/lib/python3.10/dist-packages (from requests>=2.31->yfinance) (2.0.7)\n",
            "Requirement already satisfied: certifi>=2017.4.17 in /usr/local/lib/python3.10/dist-packages (from requests>=2.31->yfinance) (2024.2.2)\n"
          ]
        }
      ]
    },
    {
      "cell_type": "code",
      "source": [
        "functions = [\n",
        "    {\n",
        "        \"name\": \"get_current_location\",\n",
        "        \"description\": \"Get the current location like latitude and longitude.\",\n",
        "        \"parameters\": {\n",
        "            \"type\": \"object\",\n",
        "            \"properties\": {},\n",
        "            \"required\": []\n",
        "        }\n",
        "    },\n",
        "    {\n",
        "        \"name\": \"get_current_weather\",\n",
        "        \"description\": \"Get the current weather like temperature and weather type in a given location.\",\n",
        "        \"parameters\": {\n",
        "            \"type\": \"object\",\n",
        "            \"properties\": {\n",
        "                \"latitude\": {\n",
        "                    \"type\": \"string\",\n",
        "                    \"description\": \"latitude\",\n",
        "                },\n",
        "                \"longitude\": {\n",
        "                    \"type\": \"string\",\n",
        "                    \"description\": \"longitude\",\n",
        "                },\n",
        "            },\n",
        "            \"required\": [\"latitude\", \"longitude\"],\n",
        "        }\n",
        "    },\n",
        "    {\n",
        "        \"name\": \"get_stock_price_info\",\n",
        "        \"description\": \"Retrieves the stock price information for a specific stock using Yahoo Finance API. For Korean stocks, append '.KS' for KOSPI listed stocks and '.KQ' for KOSDAQ listed stocks to the stock symbol.\",\n",
        "        \"parameters\": {\n",
        "            \"type\": \"object\",\n",
        "            \"properties\": {\n",
        "                \"stock_symbol\": {\n",
        "                    \"type\": \"string\",\n",
        "                    \"description\": \"The symbol of the stock to retrieve information for. For Korean stocks, use the stock code followed by '.KS' for KOSPI stocks or '.KQ' for KOSDAQ stocks, e.g., '005930.KS' for Samsung Electronics.\"\n",
        "                }\n",
        "            },\n",
        "            \"required\": [\"stock_symbol\"]\n",
        "        }\n",
        "    }\n",
        "]"
      ],
      "metadata": {
        "id": "rkVIMx4kmo1n"
      },
      "execution_count": null,
      "outputs": []
    },
    {
      "cell_type": "code",
      "source": [
        "toolkits = {\n",
        "    \"get_current_location\": get_current_location,\n",
        "    \"get_current_weather\": get_current_weather,\n",
        "    \"get_stock_price_info\": get_stock_price_info,\n",
        "}"
      ],
      "metadata": {
        "id": "GgKg6Mijmt6l"
      },
      "execution_count": null,
      "outputs": []
    },
    {
      "cell_type": "code",
      "execution_count": null,
      "metadata": {
        "id": "19-RZf43KMdE"
      },
      "outputs": [],
      "source": [
        "system_prompt = \"\"\"\n",
        "Act as helpful assistant. Write in Korean.\n",
        "To handle user requests, we determine which function to call first and try to acquire the necessary information from the given list of functions as much as possible.\n",
        "\"\"\"\n",
        "\n",
        "def print_message(message):\n",
        "    print(json.dumps(message, indent=4))\n",
        "    #if message.get(\"function_call\"):\n",
        "    #    print(message['function_call']['name'])\n",
        "\n",
        "def openai_llm(input_text, chat_history):\n",
        "\n",
        "    if len(chat_history) == 0:\n",
        "        chat_history.append({\"role\": \"system\", \"content\": system_prompt})\n",
        "\n",
        "    # input_text : 안녕\n",
        "    chat_history.append({\"role\": \"user\", \"content\": input_text})\n",
        "\n",
        "    while True: # 함수 호출을 더 이상하지 않을 때까지 루프\n",
        "\n",
        "        response = openai.ChatCompletion.create(model=\"gpt-3.5-turbo-0613\",\n",
        "                                                messages=chat_history,\n",
        "                                                functions=functions,\n",
        "                                                function_call=\"auto\")\n",
        "\n",
        "        response_message = response[\"choices\"][0][\"message\"]\n",
        "\n",
        "        # AI의 응답을 추가\n",
        "        chat_history.append(response_message)\n",
        "\n",
        "        print_message(response_message) # 주석처리해도 됩니다.\n",
        "\n",
        "        # function_call의 조건\n",
        "        # 1. 함수 호출을 하지 못할 때, 필요한 인자가 메시지의 리스트에 없을 경우 (편지봉투 내에) > 사용자에게 함수 인자에 대한 정보를 요청\n",
        "        # 2. 함수 호출을 할 필요가 없을 때 > 함수 호출 결과를 요약\n",
        "\n",
        "        # response_message에는 role, content, function_call가 있다.\n",
        "        # function_call 있다면, content = null\n",
        "        # content에 값이 있다면, function_call 키가 존재하지 않는다.\n",
        "        if response_message.get(\"function_call\") == None:\n",
        "            break\n",
        "\n",
        "        # 함수 이름과 인자 값을 얻어온다.\n",
        "        function_name = response_message[\"function_call\"][\"name\"]\n",
        "        function_arguments = json.loads(response_message[\"function_call\"][\"arguments\"])\n",
        "\n",
        "        # 함수를 호출해서, 그 결과를 얻어온다.\n",
        "        function_response = toolkits[function_name](**function_arguments)\n",
        "\n",
        "        function_response_message = {\n",
        "            \"role\": \"function\",\n",
        "            \"name\": function_name,\n",
        "            \"content\": function_response,\n",
        "        }\n",
        "\n",
        "        # 함수 호출 결과를 추가한다.\n",
        "        chat_history.append(function_response_message)\n",
        "\n",
        "        print_message(function_response_message) # 주석처리해도 됩니다.\n",
        "\n",
        "    output = response.choices[0].message.content # function_call 키가 있다면, content는 null이나, function_call 키가 없을 때, break되므로 항상 content가 있다.\n",
        "\n",
        "    return output"
      ]
    },
    {
      "cell_type": "code",
      "source": [
        "print(openai_llm(\"지금 현재 위치 날씨는?\", []))"
      ],
      "metadata": {
        "colab": {
          "base_uri": "https://localhost:8080/"
        },
        "id": "cOr1JLU7Ao-F",
        "outputId": "a6a20e3d-f922-4650-fb69-8f454fe67551"
      },
      "execution_count": null,
      "outputs": [
        {
          "output_type": "stream",
          "name": "stdout",
          "text": [
            "{\n",
            "    \"role\": \"assistant\",\n",
            "    \"content\": null,\n",
            "    \"function_call\": {\n",
            "        \"name\": \"get_current_location\",\n",
            "        \"arguments\": \"{}\"\n",
            "    }\n",
            "}\n",
            "{\n",
            "    \"role\": \"function\",\n",
            "    \"name\": \"get_current_location\",\n",
            "    \"content\": \"\\uc11c\\uc6b8\"\n",
            "}\n",
            "{\n",
            "    \"role\": \"assistant\",\n",
            "    \"content\": null,\n",
            "    \"function_call\": {\n",
            "        \"name\": \"get_current_weather\",\n",
            "        \"arguments\": \"{\\n  \\\"latitude\\\": \\\"37.5665\\\",\\n  \\\"longitude\\\": \\\"126.9780\\\"\\n}\"\n",
            "    }\n",
            "}\n",
            "{\n",
            "    \"role\": \"function\",\n",
            "    \"name\": \"get_current_weather\",\n",
            "    \"content\": \"{\\\"latitude\\\": 37.55, \\\"longitude\\\": 127.0, \\\"generationtime_ms\\\": 0.10204315185546875, \\\"utc_offset_seconds\\\": 32400, \\\"timezone\\\": \\\"Asia/Seoul\\\", \\\"timezone_abbreviation\\\": \\\"KST\\\", \\\"elevation\\\": 34.0, \\\"current_weather_units\\\": {\\\"time\\\": \\\"iso8601\\\", \\\"interval\\\": \\\"seconds\\\", \\\"temperature\\\": \\\"\\\\u00b0C\\\", \\\"windspeed\\\": \\\"km/h\\\", \\\"winddirection\\\": \\\"\\\\u00b0\\\", \\\"is_day\\\": \\\"\\\", \\\"weathercode\\\": \\\"wmo code\\\"}, \\\"current_weather\\\": {\\\"time\\\": \\\"2024-03-29T09:45\\\", \\\"interval\\\": 900, \\\"temperature\\\": 6.1, \\\"windspeed\\\": 8.6, \\\"winddirection\\\": 182, \\\"is_day\\\": 1, \\\"weathercode\\\": 2}, \\\"daily_units\\\": {\\\"time\\\": \\\"iso8601\\\", \\\"temperature_2m_max\\\": \\\"\\\\u00b0C\\\", \\\"temperature_2m_min\\\": \\\"\\\\u00b0C\\\"}, \\\"daily\\\": {\\\"time\\\": [\\\"2024-03-29\\\", \\\"2024-03-30\\\", \\\"2024-03-31\\\", \\\"2024-04-01\\\", \\\"2024-04-02\\\", \\\"2024-04-03\\\", \\\"2024-04-04\\\"], \\\"temperature_2m_max\\\": [9.8, 12.6, 15.6, 15.0, 19.0, 16.1, 14.9], \\\"temperature_2m_min\\\": [2.5, 1.5, 0.9, 4.2, 3.1, 6.4, 8.6]}}\"\n",
            "}\n",
            "{\n",
            "    \"role\": \"assistant\",\n",
            "    \"content\": \"\\uc9c0\\uae08 \\uc11c\\uc6b8\\uc758 \\ud604\\uc7ac \\ub0a0\\uc528\\ub294 6.1\\u00b0C\\ub85c \\ub9d1\\uc740 \\ub0a0\\uc528\\uc785\\ub2c8\\ub2e4. \\ubc14\\ub78c\\uc740 8.6km/h\\ub85c \\ub0a8\\ucabd\\uc73c\\ub85c \\ubd88\\uace0 \\uc788\\uc2b5\\ub2c8\\ub2e4. \\uc77c\\ubab0\\uae4c\\uc9c0 \\ub0ae\\uc774\\ubbc0\\ub85c \\uc544\\uc9c1 \\ub0ae\\uc785\\ub2c8\\ub2e4.\"\n",
            "}\n",
            "지금 서울의 현재 날씨는 6.1°C로 맑은 날씨입니다. 바람은 8.6km/h로 남쪽으로 불고 있습니다. 일몰까지 낮이므로 아직 낮입니다.\n"
          ]
        }
      ]
    },
    {
      "cell_type": "code",
      "source": [
        "print(openai_llm(\"삼성전자 주가는?\", []))"
      ],
      "metadata": {
        "colab": {
          "base_uri": "https://localhost:8080/"
        },
        "id": "pwnRnL2prNEW",
        "outputId": "c4ed3066-fba6-4f99-b6a2-9fd778a33aa3"
      },
      "execution_count": null,
      "outputs": [
        {
          "output_type": "stream",
          "name": "stdout",
          "text": [
            "{\n",
            "    \"role\": \"assistant\",\n",
            "    \"content\": null,\n",
            "    \"function_call\": {\n",
            "        \"name\": \"get_stock_price_info\",\n",
            "        \"arguments\": \"{\\n\\\"stock_symbol\\\": \\\"005930.KS\\\"\\n}\"\n",
            "    }\n",
            "}\n",
            "005930.KS\n",
            "{\n",
            "    \"role\": \"function\",\n",
            "    \"name\": \"get_stock_price_info\",\n",
            "    \"content\": \"{\\\"currentPrice\\\": 82000.0, \\\"previousClose\\\": 80800.0, \\\"open\\\": 81200.0, \\\"dayHigh\\\": 82000.0, \\\"dayLow\\\": 80900.0, \\\"volume\\\": 6976526, \\\"marketCap\\\": 546006039003136}\"\n",
            "}\n",
            "{\n",
            "    \"role\": \"assistant\",\n",
            "    \"content\": \"\\ud604\\uc7ac \\uc0bc\\uc131\\uc804\\uc790 \\uc8fc\\uac00\\ub294 82,000\\uc6d0\\uc785\\ub2c8\\ub2e4. \\uc804\\uc77c \\uc885\\uac00\\ub294 80,800\\uc6d0\\uc774\\uc5c8\\uace0, \\uc2dc\\uac00\\ub294 81,200\\uc6d0, \\uace0\\uac00\\ub294 82,000\\uc6d0, \\uc800\\uac00\\ub294 80,900\\uc6d0\\uc785\\ub2c8\\ub2e4. \\uac70\\ub798\\ub7c9\\uc740 6,976,526\\uc8fc\\uc774\\uba70 \\uc2dc\\uac00\\ucd1d\\uc561\\uc740 546\\uc870 6,006\\uc5b5 39\\ub9cc 3,136\\uc6d0\\uc785\\ub2c8\\ub2e4.\"\n",
            "}\n",
            "현재 삼성전자 주가는 82,000원입니다. 전일 종가는 80,800원이었고, 시가는 81,200원, 고가는 82,000원, 저가는 80,900원입니다. 거래량은 6,976,526주이며 시가총액은 546조 6,006억 39만 3,136원입니다.\n"
          ]
        }
      ]
    },
    {
      "cell_type": "code",
      "execution_count": null,
      "metadata": {
        "id": "y5fxQnd87y71",
        "colab": {
          "base_uri": "https://localhost:8080/"
        },
        "outputId": "84153628-2e98-4457-ebcb-8284bb3e6e2e"
      },
      "outputs": [
        {
          "name": "stdout",
          "output_type": "stream",
          "text": [
            "USER > 삼성전자 주가는?\n",
            "{\n",
            "    \"role\": \"assistant\",\n",
            "    \"content\": null,\n",
            "    \"function_call\": {\n",
            "        \"name\": \"get_stock_price_info\",\n",
            "        \"arguments\": \"{\\n  \\\"stock_symbol\\\": \\\"005930.KS\\\"\\n}\"\n",
            "    }\n",
            "}\n",
            "005930.KS\n",
            "{\n",
            "    \"role\": \"function\",\n",
            "    \"name\": \"get_stock_price_info\",\n",
            "    \"content\": \"{\\\"currentPrice\\\": 81900.0, \\\"previousClose\\\": 80800.0, \\\"open\\\": 81200.0, \\\"dayHigh\\\": 82000.0, \\\"dayLow\\\": 80900.0, \\\"volume\\\": 6984529, \\\"marketCap\\\": 545340184854528}\"\n",
            "}\n",
            "{\n",
            "    \"role\": \"assistant\",\n",
            "    \"content\": \"\\uc0bc\\uc131\\uc804\\uc790\\uc758 \\ud604\\uc7ac \\uc8fc\\uac00\\ub294 81,900\\uc6d0\\uc785\\ub2c8\\ub2e4. \\uc774\\uc804 \\uc885\\uac00\\ub294 80,800\\uc6d0\\uc774\\uace0, \\uc2dc\\uac00\\ub294 81,200\\uc6d0\\uc774\\uc5c8\\uc2b5\\ub2c8\\ub2e4. \\uc624\\ub298\\uc758 \\ucd5c\\uace0\\uac00\\ub294 82,000\\uc6d0\\uc774\\uace0, \\ucd5c\\uc800\\uac00\\ub294 80,900\\uc6d0\\uc785\\ub2c8\\ub2e4. \\uac70\\ub798\\ub7c9\\uc740 6,984,529\\uc8fc\\uc774\\uba70, \\uc2dc\\uac00\\ucd1d\\uc561\\uc740 545\\uc870 3,401\\uc5b5 845\\ub9cc 4,528\\uc6d0\\uc785\\ub2c8\\ub2e4.\"\n",
            "}\n",
            " A I > 삼성전자의 현재 주가는 81,900원입니다. 이전 종가는 80,800원이고, 시가는 81,200원이었습니다. 오늘의 최고가는 82,000원이고, 최저가는 80,900원입니다. 거래량은 6,984,529주이며, 시가총액은 545조 3,401억 845만 4,528원입니다.\n",
            "USER > quit\n"
          ]
        }
      ],
      "source": [
        "def chat_with_user(user_message, chat_history):\n",
        "    ai_message = openai_llm(user_message, chat_history)\n",
        "    return ai_message\n",
        "\n",
        "chat_history = []\n",
        "\n",
        "while True:\n",
        "    user_message = input(\"USER > \")\n",
        "    if user_message.lower() == \"quit\":\n",
        "        break\n",
        "    ai_message = chat_with_user(user_message, chat_history)\n",
        "    print(f\" A I > {ai_message}\")"
      ]
    },
    {
      "cell_type": "code",
      "source": [],
      "metadata": {
        "id": "PMb4YUuxpjFg"
      },
      "execution_count": null,
      "outputs": []
    }
  ],
  "metadata": {
    "colab": {
      "provenance": [],
      "include_colab_link": true
    },
    "kernelspec": {
      "display_name": "Python 3",
      "name": "python3"
    },
    "language_info": {
      "name": "python"
    }
  },
  "nbformat": 4,
  "nbformat_minor": 0
}