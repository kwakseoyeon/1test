{
  "nbformat": 4,
  "nbformat_minor": 0,
  "metadata": {
    "colab": {
      "provenance": [],
      "include_colab_link": true
    },
    "kernelspec": {
      "name": "python3",
      "display_name": "Python 3"
    },
    "language_info": {
      "name": "python"
    }
  },
  "cells": [
    {
      "cell_type": "markdown",
      "metadata": {
        "id": "view-in-github",
        "colab_type": "text"
      },
      "source": [
        "<a href=\"https://colab.research.google.com/github/kwakseoyeon/1test/blob/master/defining_tasks_with_the_llm_model.ipynb\" target=\"_parent\"><img src=\"https://colab.research.google.com/assets/colab-badge.svg\" alt=\"Open In Colab\"/></a>"
      ]
    },
    {
      "cell_type": "markdown",
      "source": [
        "# 기본 llm 함수"
      ],
      "metadata": {
        "id": "V-blS0HYU1L4"
      }
    },
    {
      "cell_type": "code",
      "execution_count": null,
      "metadata": {
        "id": "Zf2gSL8R0DL_"
      },
      "outputs": [],
      "source": [
        "# prompt > llm > respond\n",
        "# prompt : text\n",
        "# response : text\n",
        "\n",
        "def llm(prompt):\n",
        "    response = '안녕하세요! 어떻게 도와드릴까요?'\n",
        "    return response"
      ]
    },
    {
      "cell_type": "code",
      "source": [
        "llm('안녕?')"
      ],
      "metadata": {
        "colab": {
          "base_uri": "https://localhost:8080/",
          "height": 35
        },
        "id": "3v0ksVigwZWu",
        "outputId": "4583ef2f-d896-49e4-f4d0-f15c2f640174"
      },
      "execution_count": null,
      "outputs": [
        {
          "output_type": "execute_result",
          "data": {
            "text/plain": [
              "'안녕하세요! 어떻게 도와드릴까요?'"
            ],
            "application/vnd.google.colaboratory.intrinsic+json": {
              "type": "string"
            }
          },
          "metadata": {},
          "execution_count": 2
        }
      ]
    },
    {
      "cell_type": "markdown",
      "source": [
        "# 긍정/부정 분류기 (자동화)\n",
        "\n",
        "- 실제 마케팅이나 자연어 분석 중 가장 많이 사용되는 태스크\n",
        "- 입력되는 또는 수집되는 자연어 대해서 분류를 수행한다.\n",
        "- 이를 시계열적으로 분류를 수행하여, 그 통계치로 대응한다.\n",
        "- 예시) 상품 출시 리뷰 분석"
      ],
      "metadata": {
        "id": "M0QZNOS0UyWo"
      }
    },
    {
      "cell_type": "code",
      "source": [
        "# input_text > classify_text > 긍정 혹은 부정\n",
        "\n",
        "def classify_text(input_text):\n",
        "\n",
        "    # input_text가 긍정적이면 label = \"긍정\" or 1\n",
        "    # input_text가 부정적이면 label = \"부정\" or 0\n",
        "\n",
        "    label = '긍정'\n",
        "\n",
        "    return label\n",
        "\n",
        "# 맛집 리뷰 댓글 데이터셋\n",
        "comments = [\n",
        "    \"여기 음식은 언제 와도 실망시키지 않아요. 최고!\",\n",
        "    \"여기 라멘 진짜 ㄹㅇ 맛있어요. 국물이 진하고 면도 쫄깃해서 너무 좋았습니다.\",\n",
        "    \"진짜 깔끔하고, 맛도 좋았어요. 추천합니다!\",\n",
        "    \"왜 이렇게 유명한지 모르겠음ㅋㅋ ㄹㅈㄷ 맛없음\",\n",
        "    \"인생 타르트를 여기서 만났어요❤️ 달지 않고 고소해서 정말 추천합니다!\",\n",
        "    \"메뉴 설명을 너무 친절하게 해주셔서 고르기 수월했어요.\",\n",
        "    \"사진과 음식이 너무 달라서 실망했습니다.\",\n",
        "    \"주변에 추천하려고 사진도 많이 찍었어요. 좋아요!\",\n",
        "    \"솔직히...? 맛이 그닥이에요. 리뷰랑 너무 다르네.\",\n",
        "    \"진짜 개꿀맛..ㅠ 다른곳 안가.\"\n",
        "]\n",
        "\n",
        "for comment in comments:\n",
        "    comment_class = classify_text(comment)\n",
        "\n",
        "    print(\"comment : \", comment)\n",
        "    print(\"class : \", comment_class)"
      ],
      "metadata": {
        "colab": {
          "base_uri": "https://localhost:8080/"
        },
        "id": "xQyUQWDw1a8m",
        "outputId": "3e126de8-7f37-41a5-8014-330d8a68c4ca"
      },
      "execution_count": null,
      "outputs": [
        {
          "output_type": "stream",
          "name": "stdout",
          "text": [
            "comment :  여기 음식은 언제 와도 실망시키지 않아요. 최고!\n",
            "class :  긍정\n",
            "comment :  여기 라멘 진짜 ㄹㅇ 맛있어요. 국물이 진하고 면도 쫄깃해서 너무 좋았습니다.\n",
            "class :  긍정\n",
            "comment :  진짜 깔끔하고, 맛도 좋았어요. 추천합니다!\n",
            "class :  긍정\n",
            "comment :  왜 이렇게 유명한지 모르겠음ㅋㅋ ㄹㅈㄷ 맛없음\n",
            "class :  긍정\n",
            "comment :  인생 타르트를 여기서 만났어요❤️ 달지 않고 고소해서 정말 추천합니다!\n",
            "class :  긍정\n",
            "comment :  메뉴 설명을 너무 친절하게 해주셔서 고르기 수월했어요.\n",
            "class :  긍정\n",
            "comment :  사진과 음식이 너무 달라서 실망했습니다.\n",
            "class :  긍정\n",
            "comment :  주변에 추천하려고 사진도 많이 찍었어요. 좋아요!\n",
            "class :  긍정\n",
            "comment :  솔직히...? 맛이 그닥이에요. 리뷰랑 너무 다르네.\n",
            "class :  긍정\n",
            "comment :  진짜 개꿀맛..ㅠ 다른곳 안가.\n",
            "class :  긍정\n"
          ]
        }
      ]
    },
    {
      "cell_type": "markdown",
      "source": [
        "# 텍스트 생성\n",
        "\n",
        "- 입력되는 텍스트에 대한 응답을 생성\n",
        "- 예시) 맛집 댓글에 대한 답글 생성"
      ],
      "metadata": {
        "id": "-WP6v9LVV8ps"
      }
    },
    {
      "cell_type": "code",
      "source": [
        "def generate_reply(input_text):\n",
        "    # input_text에 대한 답글을 작성한다.\n",
        "    output = '감사합니다.'\n",
        "    return output\n",
        "\n",
        "comments = [\n",
        "    \"여기 음식은 언제 와도 실망시키지 않아요. 최고!\",\n",
        "    \"여기 라멘 진짜 ㄹㅇ 맛있어요. 국물이 진하고 면도 쫄깃해서 너무 좋았습니다.\",\n",
        "    \"진짜 깔끔하고, 맛도 좋았어요. 추천합니다!\",\n",
        "    \"왜 이렇게 유명한지 모르겠음ㅋㅋ ㄹㅈㄷ 맛없음\",\n",
        "    \"인생 타르트를 여기서 만났어요❤️ 달지 않고 고소해서 정말 추천합니다!\",\n",
        "    \"메뉴 설명을 너무 친절하게 해주셔서 고르기 수월했어요.\",\n",
        "    \"사진과 음식이 너무 달라서 실망했습니다.\",\n",
        "    \"주변에 추천하려고 사진도 많이 찍었어요. 좋아요!\",\n",
        "    \"솔직히...? 맛이 그닥이에요. 리뷰랑 너무 다르네.\",\n",
        "    \"진짜 개꿀맛..ㅠ 다른곳 안가.\"\n",
        "]\n",
        "\n",
        "for comment in comments:\n",
        "    reply_comment = generate_reply(comment)\n",
        "\n",
        "    print(\"comment : \", comment)\n",
        "    print(\"reply : \", reply_comment)"
      ],
      "metadata": {
        "colab": {
          "base_uri": "https://localhost:8080/"
        },
        "id": "zgJ_NhDk6auJ",
        "outputId": "80a5a0e2-887b-4370-d45d-80b377715158"
      },
      "execution_count": null,
      "outputs": [
        {
          "output_type": "stream",
          "name": "stdout",
          "text": [
            "comment :  여기 음식은 언제 와도 실망시키지 않아요. 최고!\n",
            "reply :  감사합니다.\n",
            "comment :  여기 라멘 진짜 ㄹㅇ 맛있어요. 국물이 진하고 면도 쫄깃해서 너무 좋았습니다.\n",
            "reply :  감사합니다.\n",
            "comment :  진짜 깔끔하고, 맛도 좋았어요. 추천합니다!\n",
            "reply :  감사합니다.\n",
            "comment :  왜 이렇게 유명한지 모르겠음ㅋㅋ ㄹㅈㄷ 맛없음\n",
            "reply :  감사합니다.\n",
            "comment :  인생 타르트를 여기서 만났어요❤️ 달지 않고 고소해서 정말 추천합니다!\n",
            "reply :  감사합니다.\n",
            "comment :  메뉴 설명을 너무 친절하게 해주셔서 고르기 수월했어요.\n",
            "reply :  감사합니다.\n",
            "comment :  사진과 음식이 너무 달라서 실망했습니다.\n",
            "reply :  감사합니다.\n",
            "comment :  주변에 추천하려고 사진도 많이 찍었어요. 좋아요!\n",
            "reply :  감사합니다.\n",
            "comment :  솔직히...? 맛이 그닥이에요. 리뷰랑 너무 다르네.\n",
            "reply :  감사합니다.\n",
            "comment :  진짜 개꿀맛..ㅠ 다른곳 안가.\n",
            "reply :  감사합니다.\n"
          ]
        }
      ]
    },
    {
      "cell_type": "markdown",
      "source": [
        "# 챗봇 태스크\n",
        "\n",
        "- 코랩에서 바로 챗팅을 해볼 수 있는 input() 함수를 사용합니다.\n",
        "- 다른 툴 : streamit, gradio"
      ],
      "metadata": {
        "id": "Rrp34PSxWPom"
      }
    },
    {
      "cell_type": "code",
      "source": [
        "def chat_with_user(user_message):\n",
        "\n",
        "    # user_message에 대한 ai_message 출력\n",
        "    ai_message = llm(user_message)\n",
        "\n",
        "    return ai_message\n",
        "\n",
        "# 사용자가 quit이라고 입력하기 전까지 무한루프\n",
        "while True:\n",
        "    user_message = input(\"USER > \")\n",
        "    if user_message.lower() == \"quit\": # 대문자로 입력해도 처리되도록 함\n",
        "        break\n",
        "    ai_message = chat_with_user(user_message)\n",
        "    print(f\" A I > {ai_message}\")"
      ],
      "metadata": {
        "colab": {
          "base_uri": "https://localhost:8080/"
        },
        "id": "c-QgQKaY6wFe",
        "outputId": "d1dd9a58-0523-41be-ee51-1cd6f746ae6b"
      },
      "execution_count": null,
      "outputs": [
        {
          "name": "stdout",
          "output_type": "stream",
          "text": [
            "USER > 안녕\n",
            " A I > 안녕하세요! 어떻게 도와드릴까요?\n",
            "USER > QUIT\n"
          ]
        }
      ]
    }
  ]
}